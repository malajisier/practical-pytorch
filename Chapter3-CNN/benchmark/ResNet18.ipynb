{
 "cells": [
  {
   "cell_type": "markdown",
   "metadata": {
    "colab_type": "text",
    "id": "0Gh8MxFUuiDj"
   },
   "source": [
    "论文中有两种不同的`residual block`的设计     \n",
    "- 浅层网络时， 采用的是两个3x3conv\n",
    "- 深层网络（>50）时，使用的是`bottle neck`,三层卷积，(1x1, 64),  (3x3, 64),  (1x1, 256)"
   ]
  },
  {
   "cell_type": "code",
   "execution_count": 0,
   "metadata": {
    "colab": {},
    "colab_type": "code",
    "id": "ypqc9B1q_tHT"
   },
   "outputs": [],
   "source": [
    "import torch\n",
    "import torch as t\n",
    "from torch import  nn\n",
    "from torch.nn import functional as F\n",
    "from torch.utils.data import DataLoader\n",
    "from torchvision import datasets\n",
    "from torchvision import transforms\n",
    "from torch import nn, optim"
   ]
  },
  {
   "cell_type": "code",
   "execution_count": 0,
   "metadata": {
    "colab": {},
    "colab_type": "code",
    "id": "MPlh-aCHkrov"
   },
   "outputs": [],
   "source": [
    "class ResBlk(nn.Module):\n",
    "    def __init__(self, ch_in, ch_out):\n",
    "\n",
    "        super(ResBlk, self).__init__()\n",
    "\n",
    "        self.conv1 = nn.Conv2d(ch_in, ch_out, kernel_size=3, stride=1, padding=1)\n",
    "        self.bn1 = nn.BatchNorm2d(ch_out)\n",
    "        self.conv2 = nn.Conv2d(ch_out, ch_out, kernel_size=3, stride=1, padding=1)\n",
    "        self.bn2 = nn.BatchNorm2d(ch_out)\n",
    "\n",
    "        self.extra = nn.Sequential()\n",
    "        if ch_out != ch_in:\n",
    "            self.extra = nn.Sequential(\n",
    "                nn.Conv2d(ch_in, ch_out, kernel_size=1, stride=1),\n",
    "                nn.BatchNorm2d(ch_out)\n",
    "            )\n",
    "\n",
    "\n",
    "    def forward(self, x):\n",
    "        out = F.relu(self.bn1(self.conv1(x)))\n",
    "        out = self.bn2(self.conv2(out))\n",
    "        out += self.extra(x)\n",
    "\n",
    "        return F.relu(out)\n",
    "\n",
    "\n",
    "\n",
    "\n",
    "class ResNet18(nn.Module):\n",
    "\n",
    "    def __init__(self):\n",
    "        super(ResNet18, self).__init__()\n",
    "\n",
    "        self.conv1 = nn.Sequential(\n",
    "            nn.Conv2d(3, 16, kernel_size=3, stride=1, padding=1),\n",
    "            nn.BatchNorm2d(16)\n",
    "        )\n",
    "        self.blk1 = ResBlk(16, 16)\n",
    "        self.blk2 = ResBlk(16, 32)\n",
    "        self.fc1 = nn.Linear(32*32*32, 10)\n",
    "\n",
    "    def forward(self, x):\n",
    "        x = F.relu(self.conv1(x))\n",
    "        x = self.blk1(x)\n",
    "        x = self.blk2(x)\n",
    "        x = x.view(x.size(0), -1)\n",
    "        x = self.fc1(x)\n",
    "\n",
    "        return x"
   ]
  },
  {
   "cell_type": "code",
   "execution_count": 15,
   "metadata": {
    "colab": {
     "base_uri": "https://localhost:8080/",
     "height": 68
    },
    "colab_type": "code",
    "id": "_zUP2Hc507U1",
    "outputId": "08a5c579-2803-4e83-bd63-4e3551f97ea1"
   },
   "outputs": [
    {
     "name": "stdout",
     "output_type": "stream",
     "text": [
      "Files already downloaded and verified\n",
      "Files already downloaded and verified\n",
      "x:  torch.Size([32, 3, 32, 32]) label:   torch.Size([32])\n"
     ]
    }
   ],
   "source": [
    "batch_size = 32\n",
    "\n",
    "cifar_train = datasets.CIFAR10('cifar', train=True, transform=transforms.Compose([\n",
    "    transforms.Resize(32, 32),\n",
    "    transforms.ToTensor()\n",
    "]), download=True)\n",
    "train_loader = DataLoader(cifar_train, batch_size=batch_size, shuffle=True)\n",
    "\n",
    "cifar_test = datasets.CIFAR10('cifar', train=False, transform=transforms.Compose([\n",
    "    transforms.Resize(32, 32),\n",
    "    transforms.ToTensor()\n",
    "]), download=True)\n",
    "test_loader = DataLoader(cifar_test, batch_size=batch_size, shuffle=True)  \n",
    "\n",
    "x, label = iter(train_loader).next()\n",
    "print('x: ', x.shape, 'label:  ', label.shape)"
   ]
  },
  {
   "cell_type": "code",
   "execution_count": 16,
   "metadata": {
    "colab": {
     "base_uri": "https://localhost:8080/",
     "height": 425
    },
    "colab_type": "code",
    "id": "U_kX9O-gvQvA",
    "outputId": "1b2dfc56-3e89-4b97-f674-9f6a6541ce8b"
   },
   "outputs": [
    {
     "name": "stdout",
     "output_type": "stream",
     "text": [
      "ResNet18(\n",
      "  (conv1): Sequential(\n",
      "    (0): Conv2d(3, 16, kernel_size=(3, 3), stride=(1, 1), padding=(1, 1))\n",
      "    (1): BatchNorm2d(16, eps=1e-05, momentum=0.1, affine=True, track_running_stats=True)\n",
      "  )\n",
      "  (blk1): ResBlk(\n",
      "    (conv1): Conv2d(16, 16, kernel_size=(3, 3), stride=(1, 1), padding=(1, 1))\n",
      "    (bn1): BatchNorm2d(16, eps=1e-05, momentum=0.1, affine=True, track_running_stats=True)\n",
      "    (conv2): Conv2d(16, 16, kernel_size=(3, 3), stride=(1, 1), padding=(1, 1))\n",
      "    (bn2): BatchNorm2d(16, eps=1e-05, momentum=0.1, affine=True, track_running_stats=True)\n",
      "    (extra): Sequential()\n",
      "  )\n",
      "  (blk2): ResBlk(\n",
      "    (conv1): Conv2d(16, 32, kernel_size=(3, 3), stride=(1, 1), padding=(1, 1))\n",
      "    (bn1): BatchNorm2d(32, eps=1e-05, momentum=0.1, affine=True, track_running_stats=True)\n",
      "    (conv2): Conv2d(32, 32, kernel_size=(3, 3), stride=(1, 1), padding=(1, 1))\n",
      "    (bn2): BatchNorm2d(32, eps=1e-05, momentum=0.1, affine=True, track_running_stats=True)\n",
      "    (extra): Sequential(\n",
      "      (0): Conv2d(16, 32, kernel_size=(1, 1), stride=(1, 1))\n",
      "      (1): BatchNorm2d(32, eps=1e-05, momentum=0.1, affine=True, track_running_stats=True)\n",
      "    )\n",
      "  )\n",
      "  (fc1): Linear(in_features=32768, out_features=10, bias=True)\n",
      ")\n"
     ]
    }
   ],
   "source": [
    "device = t.device('cuda')\n",
    "model = ResNet18().to(device) \n",
    "\n",
    "criterion = nn.CrossEntropyLoss().to(device)\n",
    "optimizer = optim.Adam(model.parameters(), lr=1e-3)\n",
    "print(model)"
   ]
  },
  {
   "cell_type": "code",
   "execution_count": 0,
   "metadata": {
    "colab": {
     "base_uri": "https://localhost:8080/",
     "height": 731
    },
    "colab_type": "code",
    "id": "_5MnTilPvsIC",
    "outputId": "5e2500b9-97ba-4040-983e-42b0adee8bab"
   },
   "outputs": [
    {
     "name": "stdout",
     "output_type": "stream",
     "text": [
      "epoch:  0 loss:  0.05174073576927185\n",
      "epoch:  0 acc:  0.6321\n",
      "epoch:  1 loss:  0.08459293097257614\n",
      "epoch:  1 acc:  0.6203\n",
      "epoch:  2 loss:  0.03969340771436691\n",
      "epoch:  2 acc:  0.6279\n",
      "epoch:  3 loss:  0.05770719051361084\n",
      "epoch:  3 acc:  0.6171\n",
      "epoch:  4 loss:  0.18921205401420593\n",
      "epoch:  4 acc:  0.622\n",
      "epoch:  5 loss:  0.0482497476041317\n",
      "epoch:  5 acc:  0.63\n",
      "epoch:  6 loss:  0.0025149062275886536\n",
      "epoch:  6 acc:  0.6147\n",
      "epoch:  7 loss:  0.04263240844011307\n",
      "epoch:  7 acc:  0.6231\n",
      "epoch:  8 loss:  0.010829329490661621\n",
      "epoch:  8 acc:  0.6232\n",
      "epoch:  9 loss:  0.012511417269706726\n",
      "epoch:  9 acc:  0.6247\n",
      "epoch:  10 loss:  0.035785011947155\n",
      "epoch:  10 acc:  0.6246\n",
      "epoch:  11 loss:  0.2755345404148102\n",
      "epoch:  11 acc:  0.6264\n",
      "epoch:  12 loss:  0.032314591109752655\n",
      "epoch:  12 acc:  0.6251\n",
      "epoch:  13 loss:  0.0012970268726348877\n",
      "epoch:  13 acc:  0.6324\n",
      "epoch:  14 loss:  0.0144390519708395\n",
      "epoch:  14 acc:  0.6331\n",
      "epoch:  15 loss:  0.10761986672878265\n",
      "epoch:  15 acc:  0.6309\n",
      "epoch:  16 loss:  0.007928140461444855\n",
      "epoch:  16 acc:  0.6302\n",
      "epoch:  17 loss:  0.0003364682197570801\n",
      "epoch:  17 acc:  0.6255\n",
      "epoch:  18 loss:  0.0329432487487793\n",
      "epoch:  18 acc:  0.6266\n",
      "epoch:  19 loss:  0.3604756295681\n",
      "epoch:  19 acc:  0.6293\n",
      "epoch:  20 loss:  0.0005232691764831543\n",
      "epoch:  20 acc:  0.6292\n"
     ]
    }
   ],
   "source": [
    "for epoch in range(100):\n",
    "    \n",
    "    # train\n",
    "    model.train()\n",
    "    for index, (x, label) in enumerate(train_loader):\n",
    "        x, label = x.to(device), label.to(device)\n",
    "        out = model(x)\n",
    "        loss = criterion(out, label)\n",
    "        \n",
    "        optimizer.zero_grad()\n",
    "        loss.backward()\n",
    "        optimizer.step()\n",
    "        \n",
    "    print('epoch: ', epoch, 'loss: ', loss.item())\n",
    "        \n",
    "    # test\n",
    "    model.eval()\n",
    "    with t.no_grad():\n",
    "        total_correct = 0\n",
    "        total_num = 0\n",
    "        \n",
    "        for x, label in test_loader:\n",
    "            x, label = x.to(device), label.to(device)\n",
    "            out = model(x)\n",
    "        \n",
    "            pred = out.argmax(dim=1)\n",
    "            correct = t.eq(pred, label).float().sum().item()\n",
    "            \n",
    "            total_correct += correct\n",
    "            total_num += x.size(0)\n",
    "            \n",
    "        acc = total_correct / total_num\n",
    "    \n",
    "    print('epoch: ', epoch, 'acc: ', acc)\n",
    "        "
   ]
  },
  {
   "cell_type": "code",
   "execution_count": 0,
   "metadata": {
    "colab": {},
    "colab_type": "code",
    "id": "G8goBv-6JSTp"
   },
   "outputs": [],
   "source": []
  }
 ],
 "metadata": {
  "accelerator": "GPU",
  "colab": {
   "collapsed_sections": [],
   "name": "ResNet18.ipynb",
   "provenance": [],
   "version": "0.3.2"
  },
  "kernelspec": {
   "display_name": "Python 3",
   "language": "python",
   "name": "python3"
  },
  "language_info": {
   "codemirror_mode": {
    "name": "ipython",
    "version": 3
   },
   "file_extension": ".py",
   "mimetype": "text/x-python",
   "name": "python",
   "nbconvert_exporter": "python",
   "pygments_lexer": "ipython3",
   "version": "3.7.3"
  },
  "toc": {
   "base_numbering": 1,
   "nav_menu": {},
   "number_sections": true,
   "sideBar": true,
   "skip_h1_title": false,
   "title_cell": "Table of Contents",
   "title_sidebar": "Contents",
   "toc_cell": false,
   "toc_position": {},
   "toc_section_display": true,
   "toc_window_display": false
  }
 },
 "nbformat": 4,
 "nbformat_minor": 1
}
