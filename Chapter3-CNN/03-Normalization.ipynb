{
 "cells": [
  {
   "cell_type": "markdown",
   "metadata": {},
   "source": [
    "### Batch Normalization / 批样本单通道  \n",
    "feature map：包含 N 个样本，每个样本通道数为 C，高为 H，宽为 W。对其求均值和方差时，将在 N、H、W上操作，而保留通道 C 的维度。       \n",
    "   \n",
    "具体来说，就是把第1个样本的第1个通道，加上第2个样本第1个通道 ...... 加上第 N 个样本第1个通道，求平均，得到通道 1 的均值（注意是除以 N×H×W 而不是单纯除以 N，最后得到的是一个代表这个 batch 第1个通道平均值的数字，而不是一个 H×W 的矩阵）。求通道 1 的方差也是同理。对所有通道都施加一遍这个操作，就得到了所有通道的均值和方差"
   ]
  },
  {
   "cell_type": "code",
   "execution_count": 26,
   "metadata": {},
   "outputs": [],
   "source": [
    "import torch\n",
    "import torch.nn as nn"
   ]
  },
  {
   "cell_type": "code",
   "execution_count": 28,
   "metadata": {},
   "outputs": [],
   "source": [
    "# BN，批样本单通道。\n",
    "# LN，单样本。\n",
    "# Instance，单样本单通道。\n",
    "# GN，单样本批通道"
   ]
  },
  {
   "cell_type": "code",
   "execution_count": 32,
   "metadata": {},
   "outputs": [
    {
     "data": {
      "text/plain": [
       "(torch.Size([10, 3, 5, 5]), True)"
      ]
     },
     "execution_count": 32,
     "metadata": {},
     "output_type": "execute_result"
    }
   ],
   "source": [
    "# track_running_stats=False，求当前 batch 真实平均值和标准差，而不是更新全局平均值和标准差\n",
    "# affine=False, 只做归一化，不乘以 gamma 加 beta（通过训练才能确定）\n",
    "# num_features 为 feature map 的 channel 数目\n",
    "# eps 设为 0，让官方代码和我们自己的代码结果尽量接近\n",
    "bn = nn.BatchNorm2d(num_features=3, eps=0, affine=False, track_running_stats=False)\n",
    "\n",
    "x = torch.randn(10, 3, 5, 5) * 10000\n",
    "x.shape, x.is_contiguous()"
   ]
  },
  {
   "cell_type": "code",
   "execution_count": 34,
   "metadata": {},
   "outputs": [
    {
     "name": "stdout",
     "output_type": "stream",
     "text": [
      "torch.Size([10, 3, 5, 5])\n",
      "torch.Size([3, 250]) torch.Size([1, 3, 1, 1])\n",
      "torch.Size([1, 3, 1, 1]) torch.Size([10, 3, 5, 5])\n",
      "diff=3.6665587686002254e-06\n"
     ]
    }
   ],
   "source": [
    "bn_x = bn(x)\n",
    "print(bn_x.shape)\n",
    "\n",
    "x1 = x.permute(1, 0, 2, 3).reshape(3, -1)\n",
    "m = x1.mean(dim=1).view(1, 3, 1, 1)\n",
    "print(x1.shape, m.shape)\n",
    "\n",
    "# unbiased=False, 求方差时不做无偏估计（除以 N-1 而不是 N），和原始论文一致\n",
    "std = x1.std(dim=1, unbiased=False).view(1, 3, 1, 1)\n",
    "my_bn = (x - m) / std\n",
    "print(std.shape, my_bn.shape)\n",
    "\n",
    "diff = (bn_x - my_bn).sum()\n",
    "print('diff={}'.format(diff)) # 差别是 10-5 级的，证明和官方版本基本一致"
   ]
  },
  {
   "cell_type": "markdown",
   "metadata": {},
   "source": [
    "### 2. Group Nomalization / 单样本批通道     \n",
    "GN 计算均值和标准差时，把每一个样本 feature map 的 channel 分成 G 组，每组将有 C/G 个 channel，然后将这些 channel 中的元素求均值和标准差。各组 channel 用其对应的归一化参数独立地归一化"
   ]
  },
  {
   "cell_type": "code",
   "execution_count": 16,
   "metadata": {},
   "outputs": [],
   "source": [
    "x = torch.randn(10, 20, 5, 5) * 10000\n",
    "gn = nn.GroupNorm(num_groups=4, num_channels=20, eps=0, affine=False)\n",
    "gn_x = gn(x)"
   ]
  },
  {
   "cell_type": "code",
   "execution_count": 24,
   "metadata": {},
   "outputs": [
    {
     "name": "stdout",
     "output_type": "stream",
     "text": [
      "torch.Size([10, 4, 125]) torch.Size([10, 4, 1])\n",
      "torch.Size([10, 4, 125])\n",
      "diff=276564.90625\n"
     ]
    }
   ],
   "source": [
    "x1 = x.view(10, 4, -1)\n",
    "m = x1.mean(dim=-1).reshape(10, 4, -1)\n",
    "std = x1.std(dim=-1).reshape(10, 4, -1)\n",
    "print(x1.shape, m.shape)\n",
    "\n",
    "x1_norm = (x1 - m) / std\n",
    "my_gn = x1.reshape(10, 20, 5, 5)\n",
    "print(x1_norm.shape)\n",
    "\n",
    "diff = (gn_x - my_gn).sum()\n",
    "print('diff={}'.format(diff))"
   ]
  },
  {
   "cell_type": "code",
   "execution_count": null,
   "metadata": {},
   "outputs": [],
   "source": []
  }
 ],
 "metadata": {
  "kernelspec": {
   "display_name": "Python 3",
   "language": "python",
   "name": "python3"
  },
  "language_info": {
   "codemirror_mode": {
    "name": "ipython",
    "version": 3
   },
   "file_extension": ".py",
   "mimetype": "text/x-python",
   "name": "python",
   "nbconvert_exporter": "python",
   "pygments_lexer": "ipython3",
   "version": "3.7.3"
  },
  "toc": {
   "base_numbering": 1,
   "nav_menu": {},
   "number_sections": true,
   "sideBar": true,
   "skip_h1_title": false,
   "title_cell": "Table of Contents",
   "title_sidebar": "Contents",
   "toc_cell": false,
   "toc_position": {},
   "toc_section_display": true,
   "toc_window_display": false
  }
 },
 "nbformat": 4,
 "nbformat_minor": 2
}
