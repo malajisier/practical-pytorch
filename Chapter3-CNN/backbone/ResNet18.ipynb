{
  "nbformat": 4,
  "nbformat_minor": 0,
  "metadata": {
    "colab": {
      "name": "ResNet18.ipynb",
      "version": "0.3.2",
      "provenance": [],
      "collapsed_sections": []
    },
    "kernelspec": {
      "name": "python3",
      "display_name": "Python 3"
    },
    "accelerator": "GPU"
  },
  "cells": [
    {
      "cell_type": "markdown",
      "metadata": {
        "id": "0Gh8MxFUuiDj",
        "colab_type": "text"
      },
      "source": [
        "论文中有两种不同的`residual block`的设计     \n",
        "- 浅层网络时， 采用的是两个3x3conv\n",
        "- 深层网络（>50）时，使用的是`bottle neck`,三层卷积，(1x1, 64),  (3x3, 64),  (1x1, 256)"
      ]
    },
    {
      "cell_type": "code",
      "metadata": {
        "id": "ypqc9B1q_tHT",
        "colab_type": "code",
        "colab": {}
      },
      "source": [
        "import numpy as np\n",
        "\n",
        "import torch\n",
        "import torch as t\n",
        "from torch import  nn\n",
        "from torch.nn import functional as F\n",
        "from torch.utils.data import DataLoader\n",
        "from torchvision import datasets\n",
        "from torchvision import transforms\n",
        "from torch import nn, optim"
      ],
      "execution_count": 0,
      "outputs": []
    },
    {
      "cell_type": "code",
      "metadata": {
        "id": "MPlh-aCHkrov",
        "colab_type": "code",
        "colab": {}
      },
      "source": [
        "class ResBlk(nn.Module):\n",
        "    def __init__(self, ch_in, ch_out):\n",
        "\n",
        "        super(ResBlk, self).__init__()\n",
        "\n",
        "        self.conv1 = nn.Conv2d(ch_in, ch_out, kernel_size=3, stride=1, padding=1)\n",
        "        self.bn1 = nn.BatchNorm2d(ch_out)\n",
        "        self.conv2 = nn.Conv2d(ch_out, ch_out, kernel_size=3, stride=1, padding=1)\n",
        "        self.bn2 = nn.BatchNorm2d(ch_out)\n",
        "\n",
        "        self.extra = nn.Sequential()\n",
        "        if ch_out != ch_in:\n",
        "            self.extra = nn.Sequential(\n",
        "                nn.Conv2d(ch_in, ch_out, kernel_size=1, stride=1),\n",
        "                nn.BatchNorm2d(ch_out)\n",
        "            )\n",
        "\n",
        "\n",
        "    def forward(self, x):\n",
        "        out = F.relu(self.bn1(self.conv1(x)))\n",
        "        out = self.bn2(self.conv2(out))\n",
        "        out += self.extra(x)\n",
        "\n",
        "        return F.relu(out)\n",
        "\n",
        "\n",
        "\n",
        "\n",
        "class ResNet18(nn.Module):\n",
        "\n",
        "    def __init__(self):\n",
        "        super(ResNet18, self).__init__()\n",
        "\n",
        "        self.conv1 = nn.Sequential(\n",
        "            nn.Conv2d(3, 16, kernel_size=3, stride=1, padding=1),\n",
        "            nn.BatchNorm2d(16)\n",
        "        )\n",
        "        self.blk1 = ResBlk(16, 16)\n",
        "        self.blk2 = ResBlk(16, 32)\n",
        "        self.fc1 = nn.Linear(32*32*32, 10)\n",
        "\n",
        "    def forward(self, x):\n",
        "        x = F.relu(self.conv1(x))\n",
        "        x = self.blk1(x)\n",
        "        x = self.blk2(x)\n",
        "        x = x.view(x.size(0), -1)\n",
        "        x = self.fc1(x)\n",
        "\n",
        "        return x"
      ],
      "execution_count": 0,
      "outputs": []
    },
    {
      "cell_type": "code",
      "metadata": {
        "id": "_zUP2Hc507U1",
        "colab_type": "code",
        "outputId": "787fc690-5fd1-4cbc-f41e-818608f28430",
        "colab": {
          "base_uri": "https://localhost:8080/",
          "height": 105
        }
      },
      "source": [
        "batch_size = 32\n",
        "\n",
        "def data_tf(x):\n",
        "    x = np.array(x, dtype='float32') / 255\n",
        "    x = (x - 0.5) / 0.5 # 标准化，这个技巧之后会讲到\n",
        "    x = x.transpose((2, 0, 1)) # 将 channel 放到第一维，只是 pytorch 要求的输入方式\n",
        "    x = t.from_numpy(x)\n",
        "    return x\n",
        "\n",
        "cifar_train = datasets.CIFAR10('cifar', train=True, transform=data_tf, download=True)\n",
        "train_loader = DataLoader(cifar_train, batch_size=batch_size, shuffle=True)\n",
        "\n",
        "cifar_test = datasets.CIFAR10('cifar', train=False, transform=data_tf, download=True)\n",
        "#Compose([\n",
        "#     transforms.Resize(32, 32),\n",
        "#     transforms.ToTensor()\n",
        "# ])\n",
        "test_loader = DataLoader(cifar_test, batch_size=batch_size, shuffle=True)  \n",
        "\n",
        "x, label = iter(train_loader).next()\n",
        "print('x: ', x.shape, 'label:  ', label.shape)"
      ],
      "execution_count": 3,
      "outputs": [
        {
          "output_type": "stream",
          "text": [
            "\r0it [00:00, ?it/s]"
          ],
          "name": "stderr"
        },
        {
          "output_type": "stream",
          "text": [
            "Downloading https://www.cs.toronto.edu/~kriz/cifar-10-python.tar.gz to cifar/cifar-10-python.tar.gz\n"
          ],
          "name": "stdout"
        },
        {
          "output_type": "stream",
          "text": [
            "170500096it [00:09, 17147521.39it/s]                               \n"
          ],
          "name": "stderr"
        },
        {
          "output_type": "stream",
          "text": [
            "Files already downloaded and verified\n",
            "x:  torch.Size([32, 3, 32, 32]) label:   torch.Size([32])\n"
          ],
          "name": "stdout"
        }
      ]
    },
    {
      "cell_type": "code",
      "metadata": {
        "id": "U_kX9O-gvQvA",
        "colab_type": "code",
        "outputId": "818f0b80-b6de-4c02-e791-2e90533d0f59",
        "colab": {
          "base_uri": "https://localhost:8080/",
          "height": 425
        }
      },
      "source": [
        "device = t.device('cuda')\n",
        "model = ResNet18().to(device) \n",
        "\n",
        "criterion = nn.CrossEntropyLoss().to(device)\n",
        "optimizer = optim.Adam(model.parameters(), lr=1e-3)\n",
        "model"
      ],
      "execution_count": 7,
      "outputs": [
        {
          "output_type": "execute_result",
          "data": {
            "text/plain": [
              "ResNet18(\n",
              "  (conv1): Sequential(\n",
              "    (0): Conv2d(3, 16, kernel_size=(3, 3), stride=(1, 1), padding=(1, 1))\n",
              "    (1): BatchNorm2d(16, eps=1e-05, momentum=0.1, affine=True, track_running_stats=True)\n",
              "  )\n",
              "  (blk1): ResBlk(\n",
              "    (conv1): Conv2d(16, 16, kernel_size=(3, 3), stride=(1, 1), padding=(1, 1))\n",
              "    (bn1): BatchNorm2d(16, eps=1e-05, momentum=0.1, affine=True, track_running_stats=True)\n",
              "    (conv2): Conv2d(16, 16, kernel_size=(3, 3), stride=(1, 1), padding=(1, 1))\n",
              "    (bn2): BatchNorm2d(16, eps=1e-05, momentum=0.1, affine=True, track_running_stats=True)\n",
              "    (extra): Sequential()\n",
              "  )\n",
              "  (blk2): ResBlk(\n",
              "    (conv1): Conv2d(16, 32, kernel_size=(3, 3), stride=(1, 1), padding=(1, 1))\n",
              "    (bn1): BatchNorm2d(32, eps=1e-05, momentum=0.1, affine=True, track_running_stats=True)\n",
              "    (conv2): Conv2d(32, 32, kernel_size=(3, 3), stride=(1, 1), padding=(1, 1))\n",
              "    (bn2): BatchNorm2d(32, eps=1e-05, momentum=0.1, affine=True, track_running_stats=True)\n",
              "    (extra): Sequential(\n",
              "      (0): Conv2d(16, 32, kernel_size=(1, 1), stride=(1, 1))\n",
              "      (1): BatchNorm2d(32, eps=1e-05, momentum=0.1, affine=True, track_running_stats=True)\n",
              "    )\n",
              "  )\n",
              "  (fc1): Linear(in_features=32768, out_features=10, bias=True)\n",
              ")"
            ]
          },
          "metadata": {
            "tags": []
          },
          "execution_count": 7
        }
      ]
    },
    {
      "cell_type": "code",
      "metadata": {
        "id": "KrYhWzMLesgW",
        "colab_type": "code",
        "outputId": "78a2c274-fe5a-4e00-fc1c-21dd6f6cd414",
        "colab": {
          "base_uri": "https://localhost:8080/",
          "height": 867
        }
      },
      "source": [
        "from train_util import train\n",
        "\n",
        "# 使用封装好的训练函数\n",
        "train(model, train_loader, test_loader, 10, optimizer, criterion)"
      ],
      "execution_count": 5,
      "outputs": [
        {
          "output_type": "stream",
          "text": [
            "Epoch [0]\n",
            "Train loss: 1975.950994, Train acc: 0.562\n",
            "Test loss: 315.332603, Test acc: 0.500\n",
            "Time 00:00:14\n",
            "-------------------------------------------------\n",
            "Epoch [1]\n",
            "Train loss: 1331.101244, Train acc: 0.500\n",
            "Test loss: 289.735921, Test acc: 0.750\n",
            "Time 00:00:28\n",
            "-------------------------------------------------\n",
            "Epoch [2]\n",
            "Train loss: 1011.760998, Train acc: 0.875\n",
            "Test loss: 296.277999, Test acc: 0.688\n",
            "Time 00:00:42\n",
            "-------------------------------------------------\n",
            "Epoch [3]\n",
            "Train loss: 737.742431, Train acc: 0.875\n",
            "Test loss: 326.853501, Test acc: 0.688\n",
            "Time 00:00:56\n",
            "-------------------------------------------------\n",
            "Epoch [4]\n",
            "Train loss: 513.490917, Train acc: 1.000\n",
            "Test loss: 376.211352, Test acc: 0.688\n",
            "Time 00:01:10\n",
            "-------------------------------------------------\n",
            "Epoch [5]\n",
            "Train loss: 357.727265, Train acc: 0.875\n",
            "Test loss: 442.964479, Test acc: 0.688\n",
            "Time 00:01:24\n",
            "-------------------------------------------------\n",
            "Epoch [6]\n",
            "Train loss: 270.903974, Train acc: 0.875\n",
            "Test loss: 487.335838, Test acc: 0.562\n",
            "Time 00:01:38\n",
            "-------------------------------------------------\n",
            "Epoch [7]\n",
            "Train loss: 209.409414, Train acc: 0.875\n",
            "Test loss: 518.684874, Test acc: 0.562\n",
            "Time 00:01:52\n",
            "-------------------------------------------------\n",
            "Epoch [8]\n",
            "Train loss: 183.211852, Train acc: 0.938\n",
            "Test loss: 565.304103, Test acc: 0.500\n",
            "Time 00:02:06\n",
            "-------------------------------------------------\n",
            "Epoch [9]\n",
            "Train loss: 160.077683, Train acc: 0.812\n",
            "Test loss: 595.386520, Test acc: 0.750\n",
            "Time 00:02:20\n",
            "-------------------------------------------------\n"
          ],
          "name": "stdout"
        }
      ]
    },
    {
      "cell_type": "code",
      "metadata": {
        "id": "_5MnTilPvsIC",
        "colab_type": "code",
        "colab": {}
      },
      "source": [
        "for epoch in range(10):\n",
        "    \n",
        "    # train\n",
        "    model.train()\n",
        "    for batch_idx, (x, label) in enumerate(train_loader):\n",
        "        x, label = x.to(device), label.to(device)\n",
        "        out = model(x)\n",
        "        loss = criterion(out, label)\n",
        "        \n",
        "        optimizer.zero_grad()\n",
        "        loss.backward()\n",
        "        optimizer.step()\n",
        "        \n",
        "    print('epoch: ', epoch, 'loss: ', loss.item())\n",
        "        \n",
        "    # test\n",
        "    model.eval()\n",
        "    with t.no_grad():\n",
        "        total_correct = 0\n",
        "        total_num = 0\n",
        "        \n",
        "        for x, label in test_loader:\n",
        "            x, label = x.to(device), label.to(device)\n",
        "            out = model(x)\n",
        "        \n",
        "            pred = out.argmax(dim=1)\n",
        "            correct = t.eq(pred, label).float().sum().item()\n",
        "            \n",
        "            total_correct += correct\n",
        "            total_num += x.size(0)\n",
        "            \n",
        "        acc = total_correct / total_num\n",
        "    \n",
        "    print('epoch: ', epoch, 'acc: ', acc)\n",
        "        "
      ],
      "execution_count": 0,
      "outputs": []
    },
    {
      "cell_type": "code",
      "metadata": {
        "id": "G8goBv-6JSTp",
        "colab_type": "code",
        "colab": {}
      },
      "source": [
        ""
      ],
      "execution_count": 0,
      "outputs": []
    }
  ]
}