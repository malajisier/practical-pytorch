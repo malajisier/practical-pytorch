{
 "cells": [
  {
   "cell_type": "code",
   "execution_count": 0,
   "metadata": {
    "colab": {},
    "colab_type": "code",
    "id": "mM51wwtHoj-e"
   },
   "outputs": [],
   "source": [
    "import numpy as np\n",
    "import torch as t\n",
    "from torchvision.datasets import MNIST # 导入 pytorch 内置的 mnist 数据\n",
    "from torch.utils.data import DataLoader\n",
    "from torch import nn\n",
    "import time\n",
    "import matplotlib.pyplot as plt"
   ]
  },
  {
   "cell_type": "code",
   "execution_count": 0,
   "metadata": {
    "colab": {},
    "colab_type": "code",
    "id": "ScD_fJswcyxI"
   },
   "outputs": [],
   "source": [
    "def transform(x):\n",
    "    x = np.array(x, dtype='float32')\n",
    "    x = (x - 0.5) / 0.5\n",
    "    x = x.reshape((-1,))\n",
    "    return x\n",
    "\n",
    "train_set = MNIST('./data', train=True, transform=transform, download=True)\n",
    "test_set = MNIST('./data', train=True, transform=transform, download=True)\n",
    "\n",
    "criterion = nn.CrossEntropyLoss()"
   ]
  },
  {
   "cell_type": "code",
   "execution_count": 0,
   "metadata": {
    "colab": {},
    "colab_type": "code",
    "id": "hQXsCQ7p2WDG"
   },
   "outputs": [],
   "source": [
    "def sgd_update(parameters, lr):\n",
    "    for param in parameters:\n",
    "        param.data = param.data - lr * param.grad.data"
   ]
  },
  {
   "cell_type": "markdown",
   "metadata": {
    "colab_type": "text",
    "id": "XQqc3v4min7U"
   },
   "source": [
    "- learning rate：    \n",
    "学习率太大会使得损失函数不断回跳，从而无法让损失函数较好降低，所以我们一般都是用一个比较小的学习率\n",
    "\n",
    "- batch size：  \n",
    "这里 batch size 为 64，可以看到 loss 仍然存在震荡，但这并没有关系，如果 batch size 太大，对于内存的需求就更高，同时也不利于网络跳出局部极小点，所以现在普遍使用基于 batch 的随机梯度下降法，而 batch 的多少基于实际情况进行考虑"
   ]
  },
  {
   "cell_type": "code",
   "execution_count": 28,
   "metadata": {
    "colab": {
     "base_uri": "https://localhost:8080/",
     "height": 119
    },
    "colab_type": "code",
    "id": "6ZrFMyF42ZgD",
    "outputId": "0a7c3523-837a-47dd-822a-c74777014ceb"
   },
   "outputs": [
    {
     "name": "stdout",
     "output_type": "stream",
     "text": [
      "epoch: 0, training loss: 1.461953\n",
      "epoch: 1, training loss: 0.251432\n",
      "epoch: 2, training loss: 0.195022\n",
      "epoch: 3, training loss: 0.160416\n",
      "epoch: 4, training loss: 0.137731\n",
      "time cost: 23.720\n"
     ]
    }
   ],
   "source": [
    "train_loader = DataLoader(train_set, batch_size=64, shuffle=True)\n",
    "device = t.device(\"cpu\")\n",
    "\n",
    "net = nn.Sequential(\n",
    "    nn.Linear(784, 200),\n",
    "    nn.ReLU(),\n",
    "    nn.Linear(200, 10)\n",
    ")\n",
    "\n",
    "losses = []\n",
    "idx = 0\n",
    "\n",
    "start_time = time.time()\n",
    "for epoch in range(5):\n",
    "    train_loss = 0\n",
    "    for img, label in train_loader:\n",
    "        img = img.to(device)\n",
    "        label = label.to(device)\n",
    "        # forward\n",
    "        out = net(img)\n",
    "        loss = criterion(out, label)\n",
    "        # backward\n",
    "        net.zero_grad()\n",
    "        loss.backward()\n",
    "        sgd_update(net.parameters(), 1e-3)\n",
    "        # 记录loss\n",
    "        train_loss += loss.item()\n",
    "        if idx % 30 == 0:\n",
    "            losses.append(loss.item())\n",
    "        idx += 1\n",
    "        \n",
    "    print('epoch: {}, training loss: {:.6f}'.format(epoch, train_loss / len(train_loader)))\n",
    "\n",
    "end_time = time.time()\n",
    "print('time cost: {:.3f}'.format(end_time - start_time))"
   ]
  },
  {
   "cell_type": "code",
   "execution_count": 29,
   "metadata": {
    "colab": {
     "base_uri": "https://localhost:8080/",
     "height": 286
    },
    "colab_type": "code",
    "id": "BNqtRERYJDQV",
    "outputId": "70ecc8b4-6e0c-4d1e-90a4-f23697e580b4"
   },
   "outputs": [
    {
     "data": {
      "text/plain": [
       "<matplotlib.legend.Legend at 0x7ff255915128>"
      ]
     },
     "execution_count": 29,
     "metadata": {
      "tags": []
     },
     "output_type": "execute_result"
    },
    {
     "data": {
      "image/png": "[encoded data removed]",
      "text/plain": [
       "<Figure size 432x288 with 1 Axes>"
      ]
     },
     "metadata": {
      "tags": []
     },
     "output_type": "display_data"
    }
   ],
   "source": [
    "x = np.linspace(0, 5, len(losses), endpoint = True)\n",
    "plt.semilogy(x, losses, label = 'batch_size=64')  # 绘制y轴对数坐标轴\n",
    "plt.legend(loc='best')"
   ]
  },
  {
   "cell_type": "markdown",
   "metadata": {
    "colab_type": "text",
    "id": "-sFZStGEhA56"
   },
   "source": [
    "使用pytorch内置的optimizer"
   ]
  },
  {
   "cell_type": "code",
   "execution_count": 30,
   "metadata": {
    "colab": {
     "base_uri": "https://localhost:8080/",
     "height": 119
    },
    "colab_type": "code",
    "id": "oSRLLl1gjG7d",
    "outputId": "a4256b0c-a223-4a5f-acc1-1a6afad4f728"
   },
   "outputs": [
    {
     "name": "stdout",
     "output_type": "stream",
     "text": [
      "epoch: 0, training loss: 1.145503\n",
      "epoch: 1, training loss: 0.217325\n",
      "epoch: 2, training loss: 0.161647\n",
      "epoch: 3, training loss: 0.131949\n",
      "epoch: 4, training loss: 0.114267\n",
      "time cost: 23.002\n"
     ]
    }
   ],
   "source": [
    "train_loader = DataLoader(train_set, batch_size=64, shuffle=True)\n",
    "device = t.device(\"cpu\")\n",
    "\n",
    "net = nn.Sequential(\n",
    "    nn.Linear(784, 200),\n",
    "    nn.ReLU(),\n",
    "    nn.Linear(200, 10)\n",
    ")\n",
    "\n",
    "optimizer = t.optim.SGD(net.parameters(), 1e-3)\n",
    "\n",
    "start_time = time.time()\n",
    "for epoch in range(5):\n",
    "    train_loss = 0\n",
    "    for img, label in train_loader:\n",
    "        img = img.to(device)\n",
    "        label = label.to(device)\n",
    "        # forward\n",
    "        out = net(img)\n",
    "        loss = criterion(out, label)\n",
    "        # backward\n",
    "        optimizer.zero_grad()\n",
    "        loss.backward()\n",
    "        optimizer.step()\n",
    "        # 记录loss\n",
    "        train_loss += loss.item()\n",
    "        if idx % 30 == 0:\n",
    "            losses.append(loss.item())\n",
    "        idx += 1\n",
    "        \n",
    "    print('epoch: {}, training loss: {:.6f}'.format(epoch, train_loss / len(train_loader)))\n",
    "\n",
    "end_time = time.time()\n",
    "print('time cost: {:.3f}'.format(end_time - start_time))"
   ]
  },
  {
   "cell_type": "code",
   "execution_count": 0,
   "metadata": {
    "colab": {},
    "colab_type": "code",
    "id": "cYRV987kj1Xw"
   },
   "outputs": [],
   "source": []
  }
 ],
 "metadata": {
  "accelerator": "GPU",
  "colab": {
   "collapsed_sections": [],
   "name": "02-SGD.ipynb",
   "provenance": [],
   "version": "0.3.2"
  },
  "kernelspec": {
   "display_name": "Python 3",
   "language": "python",
   "name": "python3"
  },
  "language_info": {
   "codemirror_mode": {
    "name": "ipython",
    "version": 3
   },
   "file_extension": ".py",
   "mimetype": "text/x-python",
   "name": "python",
   "nbconvert_exporter": "python",
   "pygments_lexer": "ipython3",
   "version": "3.7.3"
  },
  "toc": {
   "base_numbering": 1,
   "nav_menu": {},
   "number_sections": true,
   "sideBar": true,
   "skip_h1_title": false,
   "title_cell": "Table of Contents",
   "title_sidebar": "Contents",
   "toc_cell": false,
   "toc_position": {},
   "toc_section_display": true,
   "toc_window_display": false
  }
 },
 "nbformat": 4,
 "nbformat_minor": 1
}
