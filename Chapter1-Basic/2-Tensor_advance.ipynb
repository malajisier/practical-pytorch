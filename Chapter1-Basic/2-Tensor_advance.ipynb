{
 "cells": [
  {
   "cell_type": "markdown",
   "metadata": {
    "colab_type": "text",
    "id": "87OyuzLdBeEA"
   },
   "source": [
    "## 2.1 基础操作  \n",
    "从接口的角度来讲，对tensor的操作可分为两类：\n",
    "- torch.function，如torch.save等。\n",
    "- tensor.function，如tensor.view等\n",
    "\n",
    "从存储的角度来讲，对tensor的操作又可分为两类：\n",
    "- 不会修改自身的数据，如 a.add(b)， 加法的结果会返回一个新的tensor。\n",
    "- 会修改自身的数据，如 a.add_(b)， 加法的结果仍存储在a中，a被修改了     \n",
    "\n",
    "\n",
    "**新建tensor**\n",
    "\n",
    "|函数|功能|\n",
    "|:---:|:---:|\n",
    "|Tensor(\\*sizes)|基础构造函数|\n",
    "|tensor(data,)|类似np.array的构造函数|\n",
    "|ones(\\*sizes)|全1Tensor|\n",
    "|zeros(\\*sizes)|全0Tensor|\n",
    "|eye(\\*sizes)|对角线为1，其他为0|\n",
    "|arange(s,e,step|从s到e，步长为step|\n",
    "|linspace(s,e,steps)|从s到e，均匀切分成steps份|\n",
    "|rand/randn(\\*sizes)|均匀/标准分布|\n",
    "|normal(mean,std)/uniform(from,to)|正态分布/均匀分布|\n",
    "|randperm(m)|随机排列|\n",
    "\n",
    "这些创建方法都可以在创建的时候指定数据类型dtype和存放device(cpu/gpu).\n",
    "\n",
    "\n",
    "其中使用`Tensor`函数新建tensor是最复杂多变的方式，它既可以接收一个list，并根据list的数据新建tensor，也能根据指定的形状新建tensor，还能传入其他的tensor"
   ]
  },
  {
   "cell_type": "code",
   "execution_count": 0,
   "metadata": {
    "colab": {},
    "colab_type": "code",
    "id": "XynclI-GAL7k"
   },
   "outputs": [],
   "source": [
    "import torch as t\n",
    "import numpy as np"
   ]
  },
  {
   "cell_type": "code",
   "execution_count": 41,
   "metadata": {
    "colab": {
     "base_uri": "https://localhost:8080/",
     "height": 68
    },
    "colab_type": "code",
    "executionInfo": {
     "elapsed": 1589,
     "status": "ok",
     "timestamp": 1557194258692,
     "user": {
      "displayName": "wes V",
      "photoUrl": "https://lh5.googleusercontent.com/-hBncdTXpTfU/AAAAAAAAAAI/AAAAAAAAABI/U2Of_yQGm9M/s64/photo.jpg",
      "userId": "14257616964780137484"
     },
     "user_tz": -480
    },
    "id": "rwgmW92BDQnF",
    "outputId": "09e1e09b-9d27-4327-a9f4-c979959f4a89"
   },
   "outputs": [
    {
     "data": {
      "text/plain": [
       "tensor([[-1.1018e-21,  0.0000e+00,  4.4842e-44,  0.0000e+00],\n",
       "        [        nan,  0.0000e+00,  2.1667e-04,  5.3599e-08],\n",
       "        [ 1.3666e+22,  1.0978e-05,  1.0920e-05,  5.4720e+22]])"
      ]
     },
     "execution_count": 41,
     "metadata": {
      "tags": []
     },
     "output_type": "execute_result"
    }
   ],
   "source": [
    "a = t.Tensor(3, 4)\n",
    "a"
   ]
  },
  {
   "cell_type": "code",
   "execution_count": 42,
   "metadata": {
    "colab": {
     "base_uri": "https://localhost:8080/",
     "height": 34
    },
    "colab_type": "code",
    "executionInfo": {
     "elapsed": 1573,
     "status": "ok",
     "timestamp": 1557194258694,
     "user": {
      "displayName": "wes V",
      "photoUrl": "https://lh5.googleusercontent.com/-hBncdTXpTfU/AAAAAAAAAAI/AAAAAAAAABI/U2Of_yQGm9M/s64/photo.jpg",
      "userId": "14257616964780137484"
     },
     "user_tz": -480
    },
    "id": "hvEW-WgwDovN",
    "outputId": "34082a15-a01c-49a6-954a-62368edb683e"
   },
   "outputs": [
    {
     "data": {
      "text/plain": [
       "tensor([0, 1, 2, 3, 4, 5])"
      ]
     },
     "execution_count": 42,
     "metadata": {
      "tags": []
     },
     "output_type": "execute_result"
    }
   ],
   "source": [
    "t.arange(0, 6, 1)"
   ]
  },
  {
   "cell_type": "code",
   "execution_count": 43,
   "metadata": {
    "colab": {
     "base_uri": "https://localhost:8080/",
     "height": 34
    },
    "colab_type": "code",
    "executionInfo": {
     "elapsed": 1551,
     "status": "ok",
     "timestamp": 1557194258695,
     "user": {
      "displayName": "wes V",
      "photoUrl": "https://lh5.googleusercontent.com/-hBncdTXpTfU/AAAAAAAAAAI/AAAAAAAAABI/U2Of_yQGm9M/s64/photo.jpg",
      "userId": "14257616964780137484"
     },
     "user_tz": -480
    },
    "id": "5GD159p_D0s6",
    "outputId": "38d24919-4a9e-403e-d7d7-be2447e907c4"
   },
   "outputs": [
    {
     "data": {
      "text/plain": [
       "tensor([0., 3., 6.])"
      ]
     },
     "execution_count": 43,
     "metadata": {
      "tags": []
     },
     "output_type": "execute_result"
    }
   ],
   "source": [
    "t.linspace(0, 6, 3)"
   ]
  },
  {
   "cell_type": "code",
   "execution_count": 44,
   "metadata": {
    "colab": {
     "base_uri": "https://localhost:8080/",
     "height": 51
    },
    "colab_type": "code",
    "executionInfo": {
     "elapsed": 1534,
     "status": "ok",
     "timestamp": 1557194258696,
     "user": {
      "displayName": "wes V",
      "photoUrl": "https://lh5.googleusercontent.com/-hBncdTXpTfU/AAAAAAAAAAI/AAAAAAAAABI/U2Of_yQGm9M/s64/photo.jpg",
      "userId": "14257616964780137484"
     },
     "user_tz": -480
    },
    "id": "tc1MUKkYEIcx",
    "outputId": "b9d9ba93-b26d-4365-d45b-362e39bc6873"
   },
   "outputs": [
    {
     "data": {
      "text/plain": [
       "tensor([[-1.1860, -0.5908,  0.6800],\n",
       "        [ 1.1175, -0.4167, -0.1546]])"
      ]
     },
     "execution_count": 44,
     "metadata": {
      "tags": []
     },
     "output_type": "execute_result"
    }
   ],
   "source": [
    "t.randn(2, 3)"
   ]
  },
  {
   "cell_type": "code",
   "execution_count": 45,
   "metadata": {
    "colab": {
     "base_uri": "https://localhost:8080/",
     "height": 51
    },
    "colab_type": "code",
    "executionInfo": {
     "elapsed": 1515,
     "status": "ok",
     "timestamp": 1557194258697,
     "user": {
      "displayName": "wes V",
      "photoUrl": "https://lh5.googleusercontent.com/-hBncdTXpTfU/AAAAAAAAAAI/AAAAAAAAABI/U2Of_yQGm9M/s64/photo.jpg",
      "userId": "14257616964780137484"
     },
     "user_tz": -480
    },
    "id": "1BVp2UcmEsYC",
    "outputId": "ff6dbca7-ce75-436d-a805-853935cc40d3"
   },
   "outputs": [
    {
     "data": {
      "text/plain": [
       "tensor([[-1.0042,  2.7375, -0.4175],\n",
       "        [ 1.1392,  0.2088,  0.9575]], device='cuda:0')"
      ]
     },
     "execution_count": 45,
     "metadata": {
      "tags": []
     },
     "output_type": "execute_result"
    }
   ],
   "source": [
    "t.randn(2, 3, device=t.device('cuda'))"
   ]
  },
  {
   "cell_type": "code",
   "execution_count": 46,
   "metadata": {
    "colab": {
     "base_uri": "https://localhost:8080/",
     "height": 51
    },
    "colab_type": "code",
    "executionInfo": {
     "elapsed": 1471,
     "status": "ok",
     "timestamp": 1557194258698,
     "user": {
      "displayName": "wes V",
      "photoUrl": "https://lh5.googleusercontent.com/-hBncdTXpTfU/AAAAAAAAAAI/AAAAAAAAABI/U2Of_yQGm9M/s64/photo.jpg",
      "userId": "14257616964780137484"
     },
     "user_tz": -480
    },
    "id": "RDErQXjDFtUj",
    "outputId": "4e15fc0d-966d-4737-c634-bd17b169ebe1"
   },
   "outputs": [
    {
     "data": {
      "text/plain": [
       "tensor([[1., 2.],\n",
       "        [3., 4.]])"
      ]
     },
     "execution_count": 46,
     "metadata": {
      "tags": []
     },
     "output_type": "execute_result"
    }
   ],
   "source": [
    "# 用list数据创建tensor\n",
    "b = t.Tensor([[1, 2], [3, 4]])\n",
    "b"
   ]
  },
  {
   "cell_type": "code",
   "execution_count": 47,
   "metadata": {
    "colab": {
     "base_uri": "https://localhost:8080/",
     "height": 34
    },
    "colab_type": "code",
    "executionInfo": {
     "elapsed": 1450,
     "status": "ok",
     "timestamp": 1557194258699,
     "user": {
      "displayName": "wes V",
      "photoUrl": "https://lh5.googleusercontent.com/-hBncdTXpTfU/AAAAAAAAAAI/AAAAAAAAABI/U2Of_yQGm9M/s64/photo.jpg",
      "userId": "14257616964780137484"
     },
     "user_tz": -480
    },
    "id": "UDSG8MUQq1AQ",
    "outputId": "b08e6b7a-23a6-46d9-ebc6-f19bb0465209"
   },
   "outputs": [
    {
     "data": {
      "text/plain": [
       "[[1.0, 2.0], [3.0, 4.0]]"
      ]
     },
     "execution_count": 47,
     "metadata": {
      "tags": []
     },
     "output_type": "execute_result"
    }
   ],
   "source": [
    "b.tolist()"
   ]
  },
  {
   "cell_type": "code",
   "execution_count": 48,
   "metadata": {
    "colab": {
     "base_uri": "https://localhost:8080/",
     "height": 34
    },
    "colab_type": "code",
    "executionInfo": {
     "elapsed": 1419,
     "status": "ok",
     "timestamp": 1557194258700,
     "user": {
      "displayName": "wes V",
      "photoUrl": "https://lh5.googleusercontent.com/-hBncdTXpTfU/AAAAAAAAAAI/AAAAAAAAABI/U2Of_yQGm9M/s64/photo.jpg",
      "userId": "14257616964780137484"
     },
     "user_tz": -480
    },
    "id": "8TRsm1ySrGf8",
    "outputId": "2415e6e1-7712-45ab-9f9c-7acf1282c932"
   },
   "outputs": [
    {
     "data": {
      "text/plain": [
       "torch.Size([2, 2])"
      ]
     },
     "execution_count": 48,
     "metadata": {
      "tags": []
     },
     "output_type": "execute_result"
    }
   ],
   "source": [
    "size = b.size()\n",
    "size"
   ]
  },
  {
   "cell_type": "markdown",
   "metadata": {
    "colab_type": "text",
    "id": "uM7j1p1lsTJW"
   },
   "source": [
    "`tensor.size()`返回`torch.Size`对象，它是tuple的子类，但其使用方式与tuple略有区别"
   ]
  },
  {
   "cell_type": "code",
   "execution_count": 49,
   "metadata": {
    "colab": {
     "base_uri": "https://localhost:8080/",
     "height": 51
    },
    "colab_type": "code",
    "executionInfo": {
     "elapsed": 1391,
     "status": "ok",
     "timestamp": 1557194258703,
     "user": {
      "displayName": "wes V",
      "photoUrl": "https://lh5.googleusercontent.com/-hBncdTXpTfU/AAAAAAAAAAI/AAAAAAAAABI/U2Of_yQGm9M/s64/photo.jpg",
      "userId": "14257616964780137484"
     },
     "user_tz": -480
    },
    "id": "OL1qgK2hr0EI",
    "outputId": "4bdaec37-b58c-4585-892c-8262c8c50f12"
   },
   "outputs": [
    {
     "data": {
      "text/plain": [
       "tensor([[-1.1017e-21,  0.0000e+00],\n",
       "        [ 4.4842e-44,  0.0000e+00]])"
      ]
     },
     "execution_count": 49,
     "metadata": {
      "tags": []
     },
     "output_type": "execute_result"
    }
   ],
   "source": [
    "c = t.Tensor(size)\n",
    "c"
   ]
  },
  {
   "cell_type": "markdown",
   "metadata": {
    "colab_type": "text",
    "id": "NC6yghcXsi1m"
   },
   "source": [
    "要注意的是，`t.Tensor(*sizes)`创建tensor时，系统不会马上分配空间    \n",
    "只是会计算剩余的内存是否足够使用，使用到tensor时才会分配，而其它操作都是在创建完tensor之后马上进行空间分配"
   ]
  },
  {
   "cell_type": "code",
   "execution_count": 50,
   "metadata": {
    "colab": {
     "base_uri": "https://localhost:8080/",
     "height": 34
    },
    "colab_type": "code",
    "executionInfo": {
     "elapsed": 1347,
     "status": "ok",
     "timestamp": 1557194258704,
     "user": {
      "displayName": "wes V",
      "photoUrl": "https://lh5.googleusercontent.com/-hBncdTXpTfU/AAAAAAAAAAI/AAAAAAAAABI/U2Of_yQGm9M/s64/photo.jpg",
      "userId": "14257616964780137484"
     },
     "user_tz": -480
    },
    "id": "H7gZBPOcsFOx",
    "outputId": "1f95a5ca-9a48-4b06-f186-30a3c62fe544"
   },
   "outputs": [
    {
     "data": {
      "text/plain": [
       "torch.Size([2, 2])"
      ]
     },
     "execution_count": 50,
     "metadata": {
      "tags": []
     },
     "output_type": "execute_result"
    }
   ],
   "source": [
    "# 还可利用tensor.shape直接查看tensor的形状，等价于tensor.size()\n",
    "c.shape"
   ]
  },
  {
   "cell_type": "markdown",
   "metadata": {
    "colab_type": "text",
    "id": "tKca6fG0sMXf"
   },
   "source": [
    "### torch.tensor     \n",
    "在0.4版本新增加的一个新版本的创建tensor方法，使用的方法，和参数几乎和`np.array`完全一致"
   ]
  },
  {
   "cell_type": "code",
   "execution_count": 51,
   "metadata": {
    "colab": {
     "base_uri": "https://localhost:8080/",
     "height": 34
    },
    "colab_type": "code",
    "executionInfo": {
     "elapsed": 1323,
     "status": "ok",
     "timestamp": 1557194258705,
     "user": {
      "displayName": "wes V",
      "photoUrl": "https://lh5.googleusercontent.com/-hBncdTXpTfU/AAAAAAAAAAI/AAAAAAAAABI/U2Of_yQGm9M/s64/photo.jpg",
      "userId": "14257616964780137484"
     },
     "user_tz": -480
    },
    "id": "qsEUrIzStWNN",
    "outputId": "6cc5a873-1a7e-4c1e-ae6a-b50c686c9883"
   },
   "outputs": [
    {
     "data": {
      "text/plain": [
       "(tensor(3.1416), torch.Size([]))"
      ]
     },
     "execution_count": 51,
     "metadata": {
      "tags": []
     },
     "output_type": "execute_result"
    }
   ],
   "source": [
    "# 标量\n",
    "scalar = t.tensor(3.1415926)\n",
    "scalar, scalar.shape"
   ]
  },
  {
   "cell_type": "code",
   "execution_count": 52,
   "metadata": {
    "colab": {
     "base_uri": "https://localhost:8080/",
     "height": 34
    },
    "colab_type": "code",
    "executionInfo": {
     "elapsed": 1307,
     "status": "ok",
     "timestamp": 1557194258706,
     "user": {
      "displayName": "wes V",
      "photoUrl": "https://lh5.googleusercontent.com/-hBncdTXpTfU/AAAAAAAAAAI/AAAAAAAAABI/U2Of_yQGm9M/s64/photo.jpg",
      "userId": "14257616964780137484"
     },
     "user_tz": -480
    },
    "id": "XQqG_-0btmmR",
    "outputId": "15aee06e-101d-48d5-f473-e21866332249"
   },
   "outputs": [
    {
     "data": {
      "text/plain": [
       "(tensor([1, 2, 3]), torch.Size([3]))"
      ]
     },
     "execution_count": 52,
     "metadata": {
      "tags": []
     },
     "output_type": "execute_result"
    }
   ],
   "source": [
    "# 向量\n",
    "vector = t.tensor([1, 2, 3])\n",
    "vector, vector.shape"
   ]
  },
  {
   "cell_type": "code",
   "execution_count": 53,
   "metadata": {
    "colab": {
     "base_uri": "https://localhost:8080/",
     "height": 68
    },
    "colab_type": "code",
    "executionInfo": {
     "elapsed": 1296,
     "status": "ok",
     "timestamp": 1557194258707,
     "user": {
      "displayName": "wes V",
      "photoUrl": "https://lh5.googleusercontent.com/-hBncdTXpTfU/AAAAAAAAAAI/AAAAAAAAABI/U2Of_yQGm9M/s64/photo.jpg",
      "userId": "14257616964780137484"
     },
     "user_tz": -480
    },
    "id": "4Rtj9VsXu69x",
    "outputId": "87bd399e-6b5a-436b-8dc8-7f44e4338aa4"
   },
   "outputs": [
    {
     "data": {
      "text/plain": [
       "(tensor([[1, 2, 3],\n",
       "         [4, 5, 6],\n",
       "         [7, 8, 9]]), torch.Size([3, 3]))"
      ]
     },
     "execution_count": 53,
     "metadata": {
      "tags": []
     },
     "output_type": "execute_result"
    }
   ],
   "source": [
    "# 矩阵\n",
    "matrix = t.tensor([[1, 2, 3], [4, 5, 6], [7, 8, 9]])\n",
    "matrix, matrix.shape"
   ]
  },
  {
   "cell_type": "code",
   "execution_count": 54,
   "metadata": {
    "colab": {
     "base_uri": "https://localhost:8080/",
     "height": 34
    },
    "colab_type": "code",
    "executionInfo": {
     "elapsed": 1728,
     "status": "ok",
     "timestamp": 1557194259151,
     "user": {
      "displayName": "wes V",
      "photoUrl": "https://lh5.googleusercontent.com/-hBncdTXpTfU/AAAAAAAAAAI/AAAAAAAAABI/U2Of_yQGm9M/s64/photo.jpg",
      "userId": "14257616964780137484"
     },
     "user_tz": -480
    },
    "id": "UOQLB_eotxzF",
    "outputId": "007f76b8-43ef-4cff-cb0f-3ee31ec286db"
   },
   "outputs": [
    {
     "data": {
      "text/plain": [
       "(tensor([[-4.4602e-21,  0.0000e+00]]), torch.Size([1, 2]))"
      ]
     },
     "execution_count": 54,
     "metadata": {
      "tags": []
     },
     "output_type": "execute_result"
    }
   ],
   "source": [
    "tensor = t.Tensor(1, 2)\n",
    "tensor, tensor.shape"
   ]
  },
  {
   "cell_type": "markdown",
   "metadata": {
    "colab_type": "text",
    "id": "cgJmogR6uFHL"
   },
   "source": [
    "#### Key : `torch.tensor` 与 `torch.Tensor `  \n",
    "`torch.tensor`  \n",
    "- 仅仅是python函数，会将data中数据进行拷贝(不是直接引用)，根据原生数据类型生成相应的    \n",
    "  `torch.LongTensor`、`torch.FLoatTensor`、`torch.DoubleTensor`        \n",
    "- 使用方法、参数和`np.array`很相近 \n",
    "\n",
    "\n",
    "`torch.Tensor `   \n",
    "- 是python类，是默认张量类型`torch.FloatTensor()`的别名\n",
    "- 使用时，会调用Tensor类的构造函数`__init__`，生成单精度浮点类型的张量"
   ]
  },
  {
   "cell_type": "markdown",
   "metadata": {
    "colab_type": "text",
    "id": "TfpQYwzpuP0V"
   },
   "source": [
    "## 2.2 常用Tensor操作    \n",
    "（1）调整`Tensor`形状     \n",
    "- `tensor.view`方法调整tensor的形状，须保证调整前后元素总数一致。`view`不会修改自身的数据，返回的新tensor与源tensor共享内存      \n",
    "- resize    \n",
    "\n",
    "（2）调整维度     \n",
    "`squeeze`、`unsqueeze`函数"
   ]
  },
  {
   "cell_type": "code",
   "execution_count": 55,
   "metadata": {
    "colab": {
     "base_uri": "https://localhost:8080/",
     "height": 51
    },
    "colab_type": "code",
    "executionInfo": {
     "elapsed": 1714,
     "status": "ok",
     "timestamp": 1557194259153,
     "user": {
      "displayName": "wes V",
      "photoUrl": "https://lh5.googleusercontent.com/-hBncdTXpTfU/AAAAAAAAAAI/AAAAAAAAABI/U2Of_yQGm9M/s64/photo.jpg",
      "userId": "14257616964780137484"
     },
     "user_tz": -480
    },
    "id": "QYlsmog8wPzf",
    "outputId": "85ca5423-ffdb-41a2-ba62-ad64d26025c4"
   },
   "outputs": [
    {
     "data": {
      "text/plain": [
       "tensor([[0, 1, 2],\n",
       "        [3, 4, 5]])"
      ]
     },
     "execution_count": 55,
     "metadata": {
      "tags": []
     },
     "output_type": "execute_result"
    }
   ],
   "source": [
    "a =  t.arange(0, 6)\n",
    "a.view(2, 3)"
   ]
  },
  {
   "cell_type": "code",
   "execution_count": 56,
   "metadata": {
    "colab": {
     "base_uri": "https://localhost:8080/",
     "height": 68
    },
    "colab_type": "code",
    "executionInfo": {
     "elapsed": 1703,
     "status": "ok",
     "timestamp": 1557194259155,
     "user": {
      "displayName": "wes V",
      "photoUrl": "https://lh5.googleusercontent.com/-hBncdTXpTfU/AAAAAAAAAAI/AAAAAAAAABI/U2Of_yQGm9M/s64/photo.jpg",
      "userId": "14257616964780137484"
     },
     "user_tz": -480
    },
    "id": "-hRGLFVowk4G",
    "outputId": "7f66e1d3-2a2e-4d34-c9e6-d0fce33b12d9"
   },
   "outputs": [
    {
     "data": {
      "text/plain": [
       "tensor([[0, 1],\n",
       "        [2, 3],\n",
       "        [4, 5]])"
      ]
     },
     "execution_count": 56,
     "metadata": {
      "tags": []
     },
     "output_type": "execute_result"
    }
   ],
   "source": [
    "# 当某一维为-1时，会自动计算大小\n",
    "b = a.view(-1, 2)\n",
    "b"
   ]
  },
  {
   "cell_type": "code",
   "execution_count": 57,
   "metadata": {
    "colab": {
     "base_uri": "https://localhost:8080/",
     "height": 102
    },
    "colab_type": "code",
    "executionInfo": {
     "elapsed": 1694,
     "status": "ok",
     "timestamp": 1557194259157,
     "user": {
      "displayName": "wes V",
      "photoUrl": "https://lh5.googleusercontent.com/-hBncdTXpTfU/AAAAAAAAAAI/AAAAAAAAABI/U2Of_yQGm9M/s64/photo.jpg",
      "userId": "14257616964780137484"
     },
     "user_tz": -480
    },
    "id": "5x10HzXSwodU",
    "outputId": "5108f8c6-b52c-4767-c114-18f771e6d581"
   },
   "outputs": [
    {
     "data": {
      "text/plain": [
       "(tensor([[[0, 1]],\n",
       " \n",
       "         [[2, 3]],\n",
       " \n",
       "         [[4, 5]]]), torch.Size([3, 1, 2]))"
      ]
     },
     "execution_count": 57,
     "metadata": {
      "tags": []
     },
     "output_type": "execute_result"
    }
   ],
   "source": [
    "# 在第一维+1， 下标从0开始\n",
    "c = b.unsqueeze(1)\n",
    "# 3个1x2矩阵\n",
    "c, c.shape"
   ]
  },
  {
   "cell_type": "code",
   "execution_count": 58,
   "metadata": {
    "colab": {
     "base_uri": "https://localhost:8080/",
     "height": 102
    },
    "colab_type": "code",
    "executionInfo": {
     "elapsed": 1676,
     "status": "ok",
     "timestamp": 1557194259159,
     "user": {
      "displayName": "wes V",
      "photoUrl": "https://lh5.googleusercontent.com/-hBncdTXpTfU/AAAAAAAAAAI/AAAAAAAAABI/U2Of_yQGm9M/s64/photo.jpg",
      "userId": "14257616964780137484"
     },
     "user_tz": -480
    },
    "id": "xQrYclKdxSYh",
    "outputId": "41ccec54-d44e-45da-ce0b-0539ce7c5d59"
   },
   "outputs": [
    {
     "data": {
      "text/plain": [
       "(tensor([[[0, 1]],\n",
       " \n",
       "         [[2, 3]],\n",
       " \n",
       "         [[4, 5]]]), torch.Size([3, 1, 2]))"
      ]
     },
     "execution_count": 58,
     "metadata": {
      "tags": []
     },
     "output_type": "execute_result"
    }
   ],
   "source": [
    "d = b.unsqueeze(-2)\n",
    "d, d.shape"
   ]
  },
  {
   "cell_type": "code",
   "execution_count": 59,
   "metadata": {
    "colab": {
     "base_uri": "https://localhost:8080/",
     "height": 51
    },
    "colab_type": "code",
    "executionInfo": {
     "elapsed": 1650,
     "status": "ok",
     "timestamp": 1557194259161,
     "user": {
      "displayName": "wes V",
      "photoUrl": "https://lh5.googleusercontent.com/-hBncdTXpTfU/AAAAAAAAAAI/AAAAAAAAABI/U2Of_yQGm9M/s64/photo.jpg",
      "userId": "14257616964780137484"
     },
     "user_tz": -480
    },
    "id": "Yi7IyGiqyVFL",
    "outputId": "e98db6eb-3771-46f2-e191-1928136d7236"
   },
   "outputs": [
    {
     "data": {
      "text/plain": [
       "(tensor([[[[[0, 1, 2],\n",
       "            [3, 4, 5]]]]]), torch.Size([1, 1, 1, 2, 3]))"
      ]
     },
     "execution_count": 59,
     "metadata": {
      "tags": []
     },
     "output_type": "execute_result"
    }
   ],
   "source": [
    "e = b.view(1, 1, 1, 2, 3)\n",
    "e, e.shape"
   ]
  },
  {
   "cell_type": "code",
   "execution_count": 60,
   "metadata": {
    "colab": {
     "base_uri": "https://localhost:8080/",
     "height": 51
    },
    "colab_type": "code",
    "executionInfo": {
     "elapsed": 1638,
     "status": "ok",
     "timestamp": 1557194259163,
     "user": {
      "displayName": "wes V",
      "photoUrl": "https://lh5.googleusercontent.com/-hBncdTXpTfU/AAAAAAAAAAI/AAAAAAAAABI/U2Of_yQGm9M/s64/photo.jpg",
      "userId": "14257616964780137484"
     },
     "user_tz": -480
    },
    "id": "zlC9KiC-3A4A",
    "outputId": "4d7534d8-ca96-487b-e355-fb99ea76a1b6"
   },
   "outputs": [
    {
     "data": {
      "text/plain": [
       "(tensor([[[[0, 1, 2],\n",
       "           [3, 4, 5]]]]), torch.Size([1, 1, 2, 3]))"
      ]
     },
     "execution_count": 60,
     "metadata": {
      "tags": []
     },
     "output_type": "execute_result"
    }
   ],
   "source": [
    "# 压缩第0维\n",
    "f = e.squeeze(0)\n",
    "f, f.shape"
   ]
  },
  {
   "cell_type": "code",
   "execution_count": 61,
   "metadata": {
    "colab": {
     "base_uri": "https://localhost:8080/",
     "height": 51
    },
    "colab_type": "code",
    "executionInfo": {
     "elapsed": 1628,
     "status": "ok",
     "timestamp": 1557194259165,
     "user": {
      "displayName": "wes V",
      "photoUrl": "https://lh5.googleusercontent.com/-hBncdTXpTfU/AAAAAAAAAAI/AAAAAAAAABI/U2Of_yQGm9M/s64/photo.jpg",
      "userId": "14257616964780137484"
     },
     "user_tz": -480
    },
    "id": "d8ibIXqm3Izl",
    "outputId": "47ce2122-50f8-4f36-d0ef-4b86980fcab9"
   },
   "outputs": [
    {
     "data": {
      "text/plain": [
       "(tensor([[0, 1, 2],\n",
       "         [3, 4, 5]]), torch.Size([2, 3]))"
      ]
     },
     "execution_count": 61,
     "metadata": {
      "tags": []
     },
     "output_type": "execute_result"
    }
   ],
   "source": [
    "# 把所有1 维度的压缩\n",
    "g = e.squeeze()\n",
    "g, g.shape"
   ]
  },
  {
   "cell_type": "code",
   "execution_count": 62,
   "metadata": {
    "colab": {
     "base_uri": "https://localhost:8080/",
     "height": 68
    },
    "colab_type": "code",
    "executionInfo": {
     "elapsed": 1618,
     "status": "ok",
     "timestamp": 1557194259166,
     "user": {
      "displayName": "wes V",
      "photoUrl": "https://lh5.googleusercontent.com/-hBncdTXpTfU/AAAAAAAAAAI/AAAAAAAAABI/U2Of_yQGm9M/s64/photo.jpg",
      "userId": "14257616964780137484"
     },
     "user_tz": -480
    },
    "id": "tVZoNYVn3iXE",
    "outputId": "86e7fbf9-4602-4c5a-a6f7-e01c7337f10d"
   },
   "outputs": [
    {
     "data": {
      "text/plain": [
       "tensor([[111,   1],\n",
       "        [  2,   3],\n",
       "        [  4,   5]])"
      ]
     },
     "execution_count": 62,
     "metadata": {
      "tags": []
     },
     "output_type": "execute_result"
    }
   ],
   "source": [
    "# a 值改变以后， b也会改变\n",
    "a[0] = 111\n",
    "b"
   ]
  },
  {
   "cell_type": "markdown",
   "metadata": {
    "colab_type": "text",
    "id": "efC3JG2N3qxU"
   },
   "source": [
    "#### `resize`       \n",
    "是另一种可用来调整`size`的方法，它可以修改tensor的大小    \n",
    "如果新size超过了原size，自动分配新的内存空间     \n",
    "若新size小于原size，则之前的数据依旧会被保存"
   ]
  },
  {
   "cell_type": "code",
   "execution_count": 63,
   "metadata": {
    "colab": {
     "base_uri": "https://localhost:8080/",
     "height": 34
    },
    "colab_type": "code",
    "executionInfo": {
     "elapsed": 1608,
     "status": "ok",
     "timestamp": 1557194259168,
     "user": {
      "displayName": "wes V",
      "photoUrl": "https://lh5.googleusercontent.com/-hBncdTXpTfU/AAAAAAAAAAI/AAAAAAAAABI/U2Of_yQGm9M/s64/photo.jpg",
      "userId": "14257616964780137484"
     },
     "user_tz": -480
    },
    "id": "FoOQmunh36Qz",
    "outputId": "f011974d-7dca-47b9-d0a2-52f18b911c00"
   },
   "outputs": [
    {
     "data": {
      "text/plain": [
       "tensor([[111,   1,   2]])"
      ]
     },
     "execution_count": 63,
     "metadata": {
      "tags": []
     },
     "output_type": "execute_result"
    }
   ],
   "source": [
    "b = a.resize_(1, 3)\n",
    "b"
   ]
  },
  {
   "cell_type": "code",
   "execution_count": 64,
   "metadata": {
    "colab": {
     "base_uri": "https://localhost:8080/",
     "height": 68
    },
    "colab_type": "code",
    "executionInfo": {
     "elapsed": 1596,
     "status": "ok",
     "timestamp": 1557194259170,
     "user": {
      "displayName": "wes V",
      "photoUrl": "https://lh5.googleusercontent.com/-hBncdTXpTfU/AAAAAAAAAAI/AAAAAAAAABI/U2Of_yQGm9M/s64/photo.jpg",
      "userId": "14257616964780137484"
     },
     "user_tz": -480
    },
    "id": "3OYXcwhl4ldc",
    "outputId": "8450aadc-89be-43ef-d90c-9a5584511de6"
   },
   "outputs": [
    {
     "data": {
      "text/plain": [
       "tensor([[         111,            1,            2],\n",
       "        [           3,            4,            5],\n",
       "        [249108103217, 236223201333, 219043332154]])"
      ]
     },
     "execution_count": 64,
     "metadata": {
      "tags": []
     },
     "output_type": "execute_result"
    }
   ],
   "source": [
    "b = a.resize_(3, 3)\n",
    "b"
   ]
  },
  {
   "cell_type": "markdown",
   "metadata": {
    "colab_type": "text",
    "id": "7B7lX7iq4uRW"
   },
   "source": [
    "## 2.3 索引操作    \n",
    "Tensor支持与numpy.ndarray类似的索引操作，用法相似"
   ]
  },
  {
   "cell_type": "code",
   "execution_count": 65,
   "metadata": {
    "colab": {
     "base_uri": "https://localhost:8080/",
     "height": 68
    },
    "colab_type": "code",
    "executionInfo": {
     "elapsed": 1584,
     "status": "ok",
     "timestamp": 1557194259172,
     "user": {
      "displayName": "wes V",
      "photoUrl": "https://lh5.googleusercontent.com/-hBncdTXpTfU/AAAAAAAAAAI/AAAAAAAAABI/U2Of_yQGm9M/s64/photo.jpg",
      "userId": "14257616964780137484"
     },
     "user_tz": -480
    },
    "id": "tdlsJ2PD-b7S",
    "outputId": "2b59f57e-ccdd-4308-922c-41578023a867"
   },
   "outputs": [
    {
     "data": {
      "text/plain": [
       "tensor([[-0.3431, -2.1090, -0.0639, -1.7011],\n",
       "        [ 0.0961, -0.5252, -1.7006,  1.2466],\n",
       "        [ 0.4138, -0.0662, -0.7400,  1.1371]])"
      ]
     },
     "execution_count": 65,
     "metadata": {
      "tags": []
     },
     "output_type": "execute_result"
    }
   ],
   "source": [
    "a = t.randn(3, 4)\n",
    "a "
   ]
  },
  {
   "cell_type": "code",
   "execution_count": 66,
   "metadata": {
    "colab": {
     "base_uri": "https://localhost:8080/",
     "height": 34
    },
    "colab_type": "code",
    "executionInfo": {
     "elapsed": 1575,
     "status": "ok",
     "timestamp": 1557194259174,
     "user": {
      "displayName": "wes V",
      "photoUrl": "https://lh5.googleusercontent.com/-hBncdTXpTfU/AAAAAAAAAAI/AAAAAAAAABI/U2Of_yQGm9M/s64/photo.jpg",
      "userId": "14257616964780137484"
     },
     "user_tz": -480
    },
    "id": "TwLU373T-m4Q",
    "outputId": "57af0d05-63ed-425b-dc5f-8c5328745902"
   },
   "outputs": [
    {
     "data": {
      "text/plain": [
       "tensor([-0.3431, -2.1090, -0.0639, -1.7011])"
      ]
     },
     "execution_count": 66,
     "metadata": {
      "tags": []
     },
     "output_type": "execute_result"
    }
   ],
   "source": [
    "a[0]"
   ]
  },
  {
   "cell_type": "code",
   "execution_count": 67,
   "metadata": {
    "colab": {
     "base_uri": "https://localhost:8080/",
     "height": 34
    },
    "colab_type": "code",
    "executionInfo": {
     "elapsed": 1565,
     "status": "ok",
     "timestamp": 1557194259175,
     "user": {
      "displayName": "wes V",
      "photoUrl": "https://lh5.googleusercontent.com/-hBncdTXpTfU/AAAAAAAAAAI/AAAAAAAAABI/U2Of_yQGm9M/s64/photo.jpg",
      "userId": "14257616964780137484"
     },
     "user_tz": -480
    },
    "id": "27Cj2Xbr-oYN",
    "outputId": "cff98799-80cc-4366-e9d7-c7b86bb603a1"
   },
   "outputs": [
    {
     "data": {
      "text/plain": [
       "tensor([-0.3431, -2.1090, -0.0639, -1.7011])"
      ]
     },
     "execution_count": 67,
     "metadata": {
      "tags": []
     },
     "output_type": "execute_result"
    }
   ],
   "source": [
    "a[0, :]"
   ]
  },
  {
   "cell_type": "code",
   "execution_count": 68,
   "metadata": {
    "colab": {
     "base_uri": "https://localhost:8080/",
     "height": 51
    },
    "colab_type": "code",
    "executionInfo": {
     "elapsed": 1556,
     "status": "ok",
     "timestamp": 1557194259177,
     "user": {
      "displayName": "wes V",
      "photoUrl": "https://lh5.googleusercontent.com/-hBncdTXpTfU/AAAAAAAAAAI/AAAAAAAAABI/U2Of_yQGm9M/s64/photo.jpg",
      "userId": "14257616964780137484"
     },
     "user_tz": -480
    },
    "id": "lw9_hGoy-ptn",
    "outputId": "dee56e67-7c08-4f5b-9980-73db30c849e6"
   },
   "outputs": [
    {
     "name": "stdout",
     "output_type": "stream",
     "text": [
      "tensor([[-0.3431, -2.1090]]) torch.Size([1, 2])\n",
      "tensor([-0.3431, -2.1090]) torch.Size([2])\n"
     ]
    }
   ],
   "source": [
    "# 注意：操作相似，但形状不同\n",
    "b = a[0:1, :2]\n",
    "print(b, b.shape)\n",
    "\n",
    "c = a[0, :2]\n",
    "print(c, c.shape)"
   ]
  },
  {
   "cell_type": "code",
   "execution_count": 69,
   "metadata": {
    "colab": {
     "base_uri": "https://localhost:8080/",
     "height": 34
    },
    "colab_type": "code",
    "executionInfo": {
     "elapsed": 1546,
     "status": "ok",
     "timestamp": 1557194259178,
     "user": {
      "displayName": "wes V",
      "photoUrl": "https://lh5.googleusercontent.com/-hBncdTXpTfU/AAAAAAAAAAI/AAAAAAAAABI/U2Of_yQGm9M/s64/photo.jpg",
      "userId": "14257616964780137484"
     },
     "user_tz": -480
    },
    "id": "s_HnTHXH_QtZ",
    "outputId": "4c5b10a6-7c11-4e15-81eb-48b617f7853a"
   },
   "outputs": [
    {
     "data": {
      "text/plain": [
       "torch.Size([1, 3, 4])"
      ]
     },
     "execution_count": 69,
     "metadata": {
      "tags": []
     },
     "output_type": "execute_result"
    }
   ],
   "source": [
    "# None类似于np.newaxis, 新增一个轴\n",
    "a[None].shape"
   ]
  },
  {
   "cell_type": "code",
   "execution_count": 70,
   "metadata": {
    "colab": {
     "base_uri": "https://localhost:8080/",
     "height": 34
    },
    "colab_type": "code",
    "executionInfo": {
     "elapsed": 1537,
     "status": "ok",
     "timestamp": 1557194259180,
     "user": {
      "displayName": "wes V",
      "photoUrl": "https://lh5.googleusercontent.com/-hBncdTXpTfU/AAAAAAAAAAI/AAAAAAAAABI/U2Of_yQGm9M/s64/photo.jpg",
      "userId": "14257616964780137484"
     },
     "user_tz": -480
    },
    "id": "sUx8Xe-f_9Hy",
    "outputId": "9c38a62e-4bf5-442b-f152-8cf8b9d14e1b"
   },
   "outputs": [
    {
     "data": {
      "text/plain": [
       "torch.Size([3, 1, 4])"
      ]
     },
     "execution_count": 70,
     "metadata": {
      "tags": []
     },
     "output_type": "execute_result"
    }
   ],
   "source": [
    "a[:, None, :].shape"
   ]
  },
  {
   "cell_type": "code",
   "execution_count": 71,
   "metadata": {
    "colab": {
     "base_uri": "https://localhost:8080/",
     "height": 51
    },
    "colab_type": "code",
    "executionInfo": {
     "elapsed": 1526,
     "status": "ok",
     "timestamp": 1557194259182,
     "user": {
      "displayName": "wes V",
      "photoUrl": "https://lh5.googleusercontent.com/-hBncdTXpTfU/AAAAAAAAAAI/AAAAAAAAABI/U2Of_yQGm9M/s64/photo.jpg",
      "userId": "14257616964780137484"
     },
     "user_tz": -480
    },
    "id": "hAIBz_r2AEKJ",
    "outputId": "5a573961-428c-4224-eeaa-af2995c4fc33"
   },
   "outputs": [
    {
     "data": {
      "text/plain": [
       "tensor([-0.3431, -0.0639,  0.0961, -0.5252,  1.2466,  0.4138, -0.0662, -0.7400,\n",
       "         1.1371])"
      ]
     },
     "execution_count": 71,
     "metadata": {
      "tags": []
     },
     "output_type": "execute_result"
    }
   ],
   "source": [
    "# 等价于a.masked_select(a>1)\n",
    "# 选择结果与原tensor不共享内存空间\n",
    "a[a > -1]"
   ]
  },
  {
   "cell_type": "markdown",
   "metadata": {
    "colab_type": "text",
    "id": "deb3Mw6jAQCO"
   },
   "source": [
    "### 常用的选择函数     \n",
    "函数|功能|\n",
    ":---:|:---:|\n",
    "index_select(input, dim, index)|在指定维度dim上选取，比如选取某些行、某些列\n",
    "masked_select(input, mask)|例子如上，a[a>0]，使用ByteTensor进行选取\n",
    "non_zero(input)|非0元素的下标\n",
    "gather(input, dim, index)|根据index，在dim维度上选取数据，**输出的size与index一样**      \n",
    "  \n",
    "  \n",
    " (1) **gather-聚集操作**     \n",
    " `gather`是一个比较复杂的操作，对一个2维tensor，输出的每个元素如下：\n",
    "\n",
    "```python\n",
    "out[i][j] = input[index[i][j]][j]  # dim=0\n",
    "out[i][j] = input[i][index[i][j]]  # dim=1\n",
    "```"
   ]
  },
  {
   "cell_type": "code",
   "execution_count": 72,
   "metadata": {
    "colab": {
     "base_uri": "https://localhost:8080/",
     "height": 85
    },
    "colab_type": "code",
    "executionInfo": {
     "elapsed": 1509,
     "status": "ok",
     "timestamp": 1557194259183,
     "user": {
      "displayName": "wes V",
      "photoUrl": "https://lh5.googleusercontent.com/-hBncdTXpTfU/AAAAAAAAAAI/AAAAAAAAABI/U2Of_yQGm9M/s64/photo.jpg",
      "userId": "14257616964780137484"
     },
     "user_tz": -480
    },
    "id": "pMV9O4gudd6A",
    "outputId": "91282266-0252-4e7d-f1c5-068f74c2333f"
   },
   "outputs": [
    {
     "data": {
      "text/plain": [
       "tensor([[ 0,  1,  2,  3],\n",
       "        [ 4,  5,  6,  7],\n",
       "        [ 8,  9, 10, 11],\n",
       "        [12, 13, 14, 15]])"
      ]
     },
     "execution_count": 72,
     "metadata": {
      "tags": []
     },
     "output_type": "execute_result"
    }
   ],
   "source": [
    "a = t.arange(0, 16).view(4, 4)\n",
    "a"
   ]
  },
  {
   "cell_type": "code",
   "execution_count": 73,
   "metadata": {
    "colab": {
     "base_uri": "https://localhost:8080/",
     "height": 34
    },
    "colab_type": "code",
    "executionInfo": {
     "elapsed": 1498,
     "status": "ok",
     "timestamp": 1557194259185,
     "user": {
      "displayName": "wes V",
      "photoUrl": "https://lh5.googleusercontent.com/-hBncdTXpTfU/AAAAAAAAAAI/AAAAAAAAABI/U2Of_yQGm9M/s64/photo.jpg",
      "userId": "14257616964780137484"
     },
     "user_tz": -480
    },
    "id": "AMllr2Trd8g6",
    "outputId": "652b57c5-0962-465d-f134-d443ebe39c80"
   },
   "outputs": [
    {
     "data": {
      "text/plain": [
       "tensor([[ 0,  5, 10, 15]])"
      ]
     },
     "execution_count": 73,
     "metadata": {
      "tags": []
     },
     "output_type": "execute_result"
    }
   ],
   "source": [
    "# 选取对角线元素  \n",
    "index = t.LongTensor([[0, 1, 2, 3]])\n",
    "a.gather(0, index)"
   ]
  },
  {
   "cell_type": "code",
   "execution_count": 74,
   "metadata": {
    "colab": {
     "base_uri": "https://localhost:8080/",
     "height": 102
    },
    "colab_type": "code",
    "executionInfo": {
     "elapsed": 1489,
     "status": "ok",
     "timestamp": 1557194259187,
     "user": {
      "displayName": "wes V",
      "photoUrl": "https://lh5.googleusercontent.com/-hBncdTXpTfU/AAAAAAAAAAI/AAAAAAAAABI/U2Of_yQGm9M/s64/photo.jpg",
      "userId": "14257616964780137484"
     },
     "user_tz": -480
    },
    "id": "c3hq8vsxeV03",
    "outputId": "c03f34c4-c22c-42db-ddde-6cf736ac515d"
   },
   "outputs": [
    {
     "name": "stdout",
     "output_type": "stream",
     "text": [
      "tensor([[ 3],\n",
      "        [ 6],\n",
      "        [ 9],\n",
      "        [12]])\n",
      "tensor([[12,  9,  6,  3]])\n"
     ]
    }
   ],
   "source": [
    "# 选取反对角线元素\n",
    "index = t.LongTensor([[3, 2, 1, 0]])\n",
    "\n",
    "print(a.gather(1, index.t()))\n",
    "print(a.gather(0, index))"
   ]
  },
  {
   "cell_type": "code",
   "execution_count": 75,
   "metadata": {
    "colab": {
     "base_uri": "https://localhost:8080/",
     "height": 85
    },
    "colab_type": "code",
    "executionInfo": {
     "elapsed": 1484,
     "status": "ok",
     "timestamp": 1557194259189,
     "user": {
      "displayName": "wes V",
      "photoUrl": "https://lh5.googleusercontent.com/-hBncdTXpTfU/AAAAAAAAAAI/AAAAAAAAABI/U2Of_yQGm9M/s64/photo.jpg",
      "userId": "14257616964780137484"
     },
     "user_tz": -480
    },
    "id": "ZKp8VAkceybg",
    "outputId": "65dff7cf-8239-4584-acab-5c01b919e09e"
   },
   "outputs": [
    {
     "data": {
      "text/plain": [
       "tensor([[ 0,  3],\n",
       "        [ 5,  6],\n",
       "        [10,  9],\n",
       "        [15, 12]])"
      ]
     },
     "execution_count": 75,
     "metadata": {
      "tags": []
     },
     "output_type": "execute_result"
    }
   ],
   "source": [
    "# 选取双对角线元素   \n",
    "index = t.LongTensor([[0, 1, 2, 3], [3, 2, 1, 0]]).t()\n",
    "\n",
    "b = a.gather(1, index)\n",
    "b"
   ]
  },
  {
   "cell_type": "markdown",
   "metadata": {
    "colab_type": "text",
    "id": "gMrJ5dO_imFe"
   },
   "source": [
    "(2) **scatter-分散操作**    \n",
    "与`gather`相对应的逆操作是`scatter_`，`gather`把数据从input中按index取出，而`scatter_`是把取出的数据再放回去。即`scatter_`函数是inplace操作"
   ]
  },
  {
   "cell_type": "code",
   "execution_count": 76,
   "metadata": {
    "colab": {
     "base_uri": "https://localhost:8080/",
     "height": 85
    },
    "colab_type": "code",
    "executionInfo": {
     "elapsed": 1478,
     "status": "ok",
     "timestamp": 1557194259190,
     "user": {
      "displayName": "wes V",
      "photoUrl": "https://lh5.googleusercontent.com/-hBncdTXpTfU/AAAAAAAAAAI/AAAAAAAAABI/U2Of_yQGm9M/s64/photo.jpg",
      "userId": "14257616964780137484"
     },
     "user_tz": -480
    },
    "id": "7FvXELaXjCet",
    "outputId": "ceb53427-038f-4849-971b-97e279db6746"
   },
   "outputs": [
    {
     "name": "stdout",
     "output_type": "stream",
     "text": [
      "tensor(2)\n",
      "torch.Size([2, 1])\n"
     ]
    },
    {
     "data": {
      "text/plain": [
       "tensor([[0.0000, 0.0000, 1.2300, 0.0000],\n",
       "        [0.0000, 0.0000, 0.0000, 1.2300]])"
      ]
     },
     "execution_count": 76,
     "metadata": {
      "tags": []
     },
     "output_type": "execute_result"
    }
   ],
   "source": [
    "a = t.zeros(2, 4)\n",
    "index = t.tensor([[2], [3]])\n",
    "print(index[0][0])\n",
    "print(index.shape)\n",
    "\n",
    "a.scatter_(1, index, 1.23)"
   ]
  },
  {
   "cell_type": "markdown",
   "metadata": {
    "colab_type": "text",
    "id": "KyNDzjaDjnGn"
   },
   "source": [
    "### 高级索引    \n",
    "0.2版本中完善了索引操作，目前已经支持绝大多数numpy的高级索引。   \n",
    "高级索引可以看成是普通索引操作的扩展，但是高级索引操作的结果一般不和原始的Tensor共享内存"
   ]
  },
  {
   "cell_type": "code",
   "execution_count": 77,
   "metadata": {
    "colab": {
     "base_uri": "https://localhost:8080/",
     "height": 204
    },
    "colab_type": "code",
    "executionInfo": {
     "elapsed": 1471,
     "status": "ok",
     "timestamp": 1557194259194,
     "user": {
      "displayName": "wes V",
      "photoUrl": "https://lh5.googleusercontent.com/-hBncdTXpTfU/AAAAAAAAAAI/AAAAAAAAABI/U2Of_yQGm9M/s64/photo.jpg",
      "userId": "14257616964780137484"
     },
     "user_tz": -480
    },
    "id": "3K-iNj6ElmOO",
    "outputId": "aff95aa8-df21-49f3-c445-6ad204521ce7"
   },
   "outputs": [
    {
     "data": {
      "text/plain": [
       "tensor([[[ 0,  1,  2],\n",
       "         [ 3,  4,  5],\n",
       "         [ 6,  7,  8]],\n",
       "\n",
       "        [[ 9, 10, 11],\n",
       "         [12, 13, 14],\n",
       "         [15, 16, 17]],\n",
       "\n",
       "        [[18, 19, 20],\n",
       "         [21, 22, 23],\n",
       "         [24, 25, 26]]])"
      ]
     },
     "execution_count": 77,
     "metadata": {
      "tags": []
     },
     "output_type": "execute_result"
    }
   ],
   "source": [
    "a = t.arange(0, 27).view(3, 3, 3)\n",
    "a"
   ]
  },
  {
   "cell_type": "code",
   "execution_count": 78,
   "metadata": {
    "colab": {
     "base_uri": "https://localhost:8080/",
     "height": 34
    },
    "colab_type": "code",
    "executionInfo": {
     "elapsed": 1847,
     "status": "ok",
     "timestamp": 1557194259577,
     "user": {
      "displayName": "wes V",
      "photoUrl": "https://lh5.googleusercontent.com/-hBncdTXpTfU/AAAAAAAAAAI/AAAAAAAAABI/U2Of_yQGm9M/s64/photo.jpg",
      "userId": "14257616964780137484"
     },
     "user_tz": -480
    },
    "id": "o0PsqORV8_mv",
    "outputId": "85af6a0c-b650-42da-c529-dd493cc32043"
   },
   "outputs": [
    {
     "data": {
      "text/plain": [
       "tensor([14, 24])"
      ]
     },
     "execution_count": 78,
     "metadata": {
      "tags": []
     },
     "output_type": "execute_result"
    }
   ],
   "source": [
    "# 纯整数组索引--在每个维上指定任意索引\n",
    "#  n, dim, index\n",
    "a[[1, 2], [1, 2], [2, 0]] # 等价于 a[1,1,2], a[2,2,0]"
   ]
  },
  {
   "cell_type": "code",
   "execution_count": 79,
   "metadata": {
    "colab": {
     "base_uri": "https://localhost:8080/",
     "height": 34
    },
    "colab_type": "code",
    "executionInfo": {
     "elapsed": 1840,
     "status": "ok",
     "timestamp": 1557194259579,
     "user": {
      "displayName": "wes V",
      "photoUrl": "https://lh5.googleusercontent.com/-hBncdTXpTfU/AAAAAAAAAAI/AAAAAAAAABI/U2Of_yQGm9M/s64/photo.jpg",
      "userId": "14257616964780137484"
     },
     "user_tz": -480
    },
    "id": "Oep-1DpF9Ae8",
    "outputId": "10b91bcb-e2f2-4997-dc56-9c48d939670b"
   },
   "outputs": [
    {
     "data": {
      "text/plain": [
       "tensor([ 1, 10, 19])"
      ]
     },
     "execution_count": 79,
     "metadata": {
      "tags": []
     },
     "output_type": "execute_result"
    }
   ],
   "source": [
    "# 支持广播，重复\n",
    "a[[0, 1, 2], [0], [1]] # 等价于a[0,0,1] a[1,0,1] a[2,0,1]"
   ]
  },
  {
   "cell_type": "markdown",
   "metadata": {
    "colab_type": "text",
    "id": "VwQBRZDyDUe3"
   },
   "source": [
    "##  2.4 Other    "
   ]
  },
  {
   "cell_type": "markdown",
   "metadata": {
    "colab_type": "text",
    "id": "txyb-8uE9UV1"
   },
   "source": [
    "### GPU/CPU\n",
    "tensor可以很随意的在gpu/cpu上传输。使用`tensor.cuda(device_id)`或者`tensor.cpu()`。另外一个更通用的方法是`tensor.to(device)`"
   ]
  },
  {
   "cell_type": "code",
   "execution_count": 86,
   "metadata": {
    "colab": {
     "base_uri": "https://localhost:8080/",
     "height": 68
    },
    "colab_type": "code",
    "executionInfo": {
     "elapsed": 750,
     "status": "ok",
     "timestamp": 1557194792543,
     "user": {
      "displayName": "wes V",
      "photoUrl": "https://lh5.googleusercontent.com/-hBncdTXpTfU/AAAAAAAAAAI/AAAAAAAAABI/U2Of_yQGm9M/s64/photo.jpg",
      "userId": "14257616964780137484"
     },
     "user_tz": -480
    },
    "id": "Eiw99ajkBUus",
    "outputId": "0f317884-cf24-4212-e7fd-ca30cc3a412e"
   },
   "outputs": [
    {
     "data": {
      "text/plain": [
       "(tensor([[ 1.6830, -0.8484, -0.2639, -0.2613],\n",
       "         [ 0.6256, -1.0901, -0.2841,  0.0257],\n",
       "         [ 2.5757,  1.5335, -0.2268, -0.5638]]), device(type='cpu'))"
      ]
     },
     "execution_count": 86,
     "metadata": {
      "tags": []
     },
     "output_type": "execute_result"
    }
   ],
   "source": [
    "a = t.randn(3, 4)\n",
    "a, a.device"
   ]
  },
  {
   "cell_type": "code",
   "execution_count": 88,
   "metadata": {
    "colab": {
     "base_uri": "https://localhost:8080/",
     "height": 68
    },
    "colab_type": "code",
    "executionInfo": {
     "elapsed": 890,
     "status": "ok",
     "timestamp": 1557194816259,
     "user": {
      "displayName": "wes V",
      "photoUrl": "https://lh5.googleusercontent.com/-hBncdTXpTfU/AAAAAAAAAAI/AAAAAAAAABI/U2Of_yQGm9M/s64/photo.jpg",
      "userId": "14257616964780137484"
     },
     "user_tz": -480
    },
    "id": "Thl8U2FJCELX",
    "outputId": "359eb5ff-967b-489a-9694-e55c634f02d8"
   },
   "outputs": [
    {
     "data": {
      "text/plain": [
       "tensor([[ 1.6830, -0.8484, -0.2639, -0.2613],\n",
       "        [ 0.6256, -1.0901, -0.2841,  0.0257],\n",
       "        [ 2.5757,  1.5335, -0.2268, -0.5638]], device='cuda:0')"
      ]
     },
     "execution_count": 88,
     "metadata": {
      "tags": []
     },
     "output_type": "execute_result"
    }
   ],
   "source": [
    "device = t.device('cuda:0')\n",
    "a.to(device)"
   ]
  },
  {
   "cell_type": "markdown",
   "metadata": {
    "colab_type": "text",
    "id": "m1Uo20g2CfS0"
   },
   "source": [
    "**注意**\n",
    "- 尽量使用`tensor.to(device)`, 将`device`设为一个可配置的参数，这样可以很轻松的使程序同时兼容GPU和CPU\n",
    "- 数据在GPU之中传输的速度要远快于内存(CPU)到显存(GPU), 所以尽量避免频繁的在内存和显存中传输数据"
   ]
  },
  {
   "cell_type": "markdown",
   "metadata": {
    "colab_type": "text",
    "id": "L8mrrM0NC7_B"
   },
   "source": [
    "### 持久化\n",
    "Tensor的保存和加载十分的简单，使用`t.save和t.load`即可完成相应的功能      \n",
    "在save/load时可指定使用的`pickle`模块，在load时还可将GPU tensor映射到CPU或其它GPU上"
   ]
  },
  {
   "cell_type": "code",
   "execution_count": 92,
   "metadata": {
    "colab": {
     "base_uri": "https://localhost:8080/",
     "height": 170
    },
    "colab_type": "code",
    "executionInfo": {
     "elapsed": 776,
     "status": "ok",
     "timestamp": 1557195457544,
     "user": {
      "displayName": "wes V",
      "photoUrl": "https://lh5.googleusercontent.com/-hBncdTXpTfU/AAAAAAAAAAI/AAAAAAAAABI/U2Of_yQGm9M/s64/photo.jpg",
      "userId": "14257616964780137484"
     },
     "user_tz": -480
    },
    "id": "fd8Ngy0tDHPU",
    "outputId": "51f82d0d-a559-4076-b55e-7cebf4a2f585"
   },
   "outputs": [
    {
     "data": {
      "text/plain": [
       "(tensor([[ 1.6830, -0.8484, -0.2639, -0.2613],\n",
       "         [ 0.6256, -1.0901, -0.2841,  0.0257],\n",
       "         [ 2.5757,  1.5335, -0.2268, -0.5638]], device='cuda:0'),\n",
       " tensor([[ 1.6830, -0.8484, -0.2639, -0.2613],\n",
       "         [ 0.6256, -1.0901, -0.2841,  0.0257],\n",
       "         [ 2.5757,  1.5335, -0.2268, -0.5638]], device='cuda:0'),\n",
       " tensor([[ 1.6830, -0.8484, -0.2639, -0.2613],\n",
       "         [ 0.6256, -1.0901, -0.2841,  0.0257],\n",
       "         [ 2.5757,  1.5335, -0.2268, -0.5638]]))"
      ]
     },
     "execution_count": 92,
     "metadata": {
      "tags": []
     },
     "output_type": "execute_result"
    }
   ],
   "source": [
    "if t.cuda.is_available():\n",
    "    # a 转为GPU0上的 tensor\n",
    "    a = a.cuda(0)\n",
    "    t.save(a, 'a.pth')\n",
    "\n",
    "    # 加载为b， 存储于 GPU0上\n",
    "    b = t.load('a.pth')\n",
    "    # 存储于 cpu上\n",
    "    c = t.load('a.pth', map_location=lambda storage, loc : storage)\n",
    "\n",
    "a, b, c"
   ]
  },
  {
   "cell_type": "markdown",
   "metadata": {
    "colab_type": "text",
    "id": "qtZyKbqdD3-T"
   },
   "source": [
    "### 向量化    \n",
    "向量化计算是一种特殊的并行计算方式，相对于一般程序在同一时间只执行一个操作的方式，它可在同一时间执行多个操作，通常是对不同的数据执行同样的一个或一批指令，或者说把指令应用于一个数组/向量上   \n",
    "\n",
    "向量化可极大提高科学运算的效率，Python本身是一门高级语言，使用很方便，但这也意味着很多操作很低效，尤其是`for`循环。在科学计算程序中应当极力避免使用Python原生的`for循环` "
   ]
  },
  {
   "cell_type": "code",
   "execution_count": 0,
   "metadata": {
    "colab": {},
    "colab_type": "code",
    "id": "jrdYnGmMJRCZ"
   },
   "outputs": [],
   "source": [
    "def for_loop_add(x, y):\n",
    "    result = []\n",
    "    for i, j in zip(x, y):\n",
    "        result.append(i + j)\n",
    "    return t.tensor(result)"
   ]
  },
  {
   "cell_type": "code",
   "execution_count": 94,
   "metadata": {
    "colab": {
     "base_uri": "https://localhost:8080/",
     "height": 51
    },
    "colab_type": "code",
    "executionInfo": {
     "elapsed": 641,
     "status": "ok",
     "timestamp": 1557196784538,
     "user": {
      "displayName": "wes V",
      "photoUrl": "https://lh5.googleusercontent.com/-hBncdTXpTfU/AAAAAAAAAAI/AAAAAAAAABI/U2Of_yQGm9M/s64/photo.jpg",
      "userId": "14257616964780137484"
     },
     "user_tz": -480
    },
    "id": "jm_hHwvqJ--T",
    "outputId": "8b15976b-54e9-440c-fee7-981b3ccae4c0"
   },
   "outputs": [
    {
     "name": "stdout",
     "output_type": "stream",
     "text": [
      "100 loops, best of 3: 644 µs per loop\n",
      "100 loops, best of 3: 3.16 µs per loop\n"
     ]
    }
   ],
   "source": [
    "x = t.ones(100)\n",
    "y = t.zeros(100)\n",
    "\n",
    "%timeit -n 100 for_loop_add(x, y)\n",
    "%timeit -n 100 x + y"
   ]
  },
  {
   "cell_type": "markdown",
   "metadata": {
    "colab_type": "text",
    "id": "HqMPYGp8KUCF"
   },
   "source": [
    "二者有超过几十倍的速度差距，因此在实际使用中应尽量调用**内建函数(buildin-function)**，这些函数底层由C/C++实现，能通过执行底层优化实现高效计算     \n",
    "\n",
    "因此在平时写代码时，就应养成向量化的思维习惯，千万避免对较大的tensor进行逐元素遍历"
   ]
  },
  {
   "cell_type": "markdown",
   "metadata": {
    "colab_type": "text",
    "id": "lVPLSFRtK4xX"
   },
   "source": [
    "### 其他注意点：    \n",
    "\n",
    "- 大多数`t.function`都有一个参数`out`，这时候产生的结果将保存在out指定tensor之中。\n",
    "- `t.set_num_threads`可以设置PyTorch进行CPU多线程并行计算时候所占用的线程数，这个可以用来限制PyTorch所占用的CPU数目。\n",
    "- `t.set_printoptions`可以用来设置打印tensor时的数值精度和格式"
   ]
  },
  {
   "cell_type": "code",
   "execution_count": 95,
   "metadata": {
    "colab": {
     "base_uri": "https://localhost:8080/",
     "height": 51
    },
    "colab_type": "code",
    "executionInfo": {
     "elapsed": 699,
     "status": "ok",
     "timestamp": 1557197096448,
     "user": {
      "displayName": "wes V",
      "photoUrl": "https://lh5.googleusercontent.com/-hBncdTXpTfU/AAAAAAAAAAI/AAAAAAAAABI/U2Of_yQGm9M/s64/photo.jpg",
      "userId": "14257616964780137484"
     },
     "user_tz": -480
    },
    "id": "6h1rMJBuLKBQ",
    "outputId": "95ece5b2-24f5-4805-eec9-e832ee0cd27f"
   },
   "outputs": [
    {
     "data": {
      "text/plain": [
       "tensor([[-0.3536, -1.2710,  0.9475],\n",
       "        [-0.8725,  1.0671,  0.1073]])"
      ]
     },
     "execution_count": 95,
     "metadata": {
      "tags": []
     },
     "output_type": "execute_result"
    }
   ],
   "source": [
    "a = t.randn(2, 3)\n",
    "a"
   ]
  },
  {
   "cell_type": "code",
   "execution_count": 96,
   "metadata": {
    "colab": {
     "base_uri": "https://localhost:8080/",
     "height": 51
    },
    "colab_type": "code",
    "executionInfo": {
     "elapsed": 736,
     "status": "ok",
     "timestamp": 1557197110720,
     "user": {
      "displayName": "wes V",
      "photoUrl": "https://lh5.googleusercontent.com/-hBncdTXpTfU/AAAAAAAAAAI/AAAAAAAAABI/U2Of_yQGm9M/s64/photo.jpg",
      "userId": "14257616964780137484"
     },
     "user_tz": -480
    },
    "id": "DOSaXelBLgKy",
    "outputId": "e72ffd05-bee3-4db6-b269-187af707f58e"
   },
   "outputs": [
    {
     "data": {
      "text/plain": [
       "tensor([[-0.353581517935, -1.270960450172,  0.947500765324],\n",
       "        [-0.872466742992,  1.067063808441,  0.107277430594]])"
      ]
     },
     "execution_count": 96,
     "metadata": {
      "tags": []
     },
     "output_type": "execute_result"
    }
   ],
   "source": [
    "t.set_printoptions(precision=12)\n",
    "a"
   ]
  }
 ],
 "metadata": {
  "accelerator": "GPU",
  "colab": {
   "collapsed_sections": [],
   "name": "2-Tensor_advance.ipynb",
   "provenance": [],
   "version": "0.3.2"
  },
  "kernelspec": {
   "display_name": "Python 3",
   "language": "python",
   "name": "python3"
  },
  "language_info": {
   "codemirror_mode": {
    "name": "ipython",
    "version": 3
   },
   "file_extension": ".py",
   "mimetype": "text/x-python",
   "name": "python",
   "nbconvert_exporter": "python",
   "pygments_lexer": "ipython3",
   "version": "3.7.3"
  }
 },
 "nbformat": 4,
 "nbformat_minor": 1
}
